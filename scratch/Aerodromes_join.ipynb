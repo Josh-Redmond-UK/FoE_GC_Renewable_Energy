{
 "cells": [
  {
   "cell_type": "code",
   "execution_count": 1,
   "metadata": {},
   "outputs": [],
   "source": [
    "## Join Wikipedia aerodrome list w/ point data to have airport locations & runway lengths for exclusions"
   ]
  }
 ],
 "metadata": {
  "kernelspec": {
   "display_name": "Python 3.8.13 ('EIGC22')",
   "language": "python",
   "name": "python3"
  },
  "language_info": {
   "codemirror_mode": {
    "name": "ipython",
    "version": 3
   },
   "file_extension": ".py",
   "mimetype": "text/x-python",
   "name": "python",
   "nbconvert_exporter": "python",
   "pygments_lexer": "ipython3",
   "version": "3.8.13"
  },
  "orig_nbformat": 4,
  "vscode": {
   "interpreter": {
    "hash": "f77395505e4dc3b4c0581175e973f54dc2ac54d17f1de1811925642baeb4ae2c"
   }
  }
 },
 "nbformat": 4,
 "nbformat_minor": 2
}
