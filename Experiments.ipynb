{
 "cells": [
  {
   "cell_type": "code",
   "execution_count": null,
   "metadata": {
    "tags": []
   },
   "outputs": [],
   "source": [
    "#!pip install -r requirements.txt"
   ]
  },
  {
   "cell_type": "code",
   "execution_count": null,
   "metadata": {
    "tags": []
   },
   "outputs": [],
   "source": [
    "import ee\n",
    "#ee.Authenticate()"
   ]
  },
  {
   "cell_type": "code",
   "execution_count": null,
   "metadata": {
    "tags": []
   },
   "outputs": [],
   "source": []
  },
  {
   "cell_type": "code",
   "execution_count": null,
   "metadata": {
    "tags": []
   },
   "outputs": [],
   "source": [
    "from utils import *\n",
    "\n"
   ]
  },
  {
   "cell_type": "code",
   "execution_count": null,
   "metadata": {
    "tags": []
   },
   "outputs": [],
   "source": [
    "\n",
    "\n",
    "ee.Initialize()"
   ]
  },
  {
   "cell_type": "code",
   "execution_count": null,
   "metadata": {
    "tags": []
   },
   "outputs": [],
   "source": [
    "def getFeatureRaster(feature, exclusionRaster, targetRaster):\n",
    "    excls = exclusionRaster.clip(feature)\n",
    "    targ = targetRaster.clip(feature)\n",
    "\n",
    "    return targ.multiply(excls)"
   ]
  },
  {
   "cell_type": "code",
   "execution_count": null,
   "metadata": {
    "tags": []
   },
   "outputs": [],
   "source": [
    "def reduceToArea(image):\n",
    "    areaDict = image.pixelArea().reduceRegion(ee.Reducer.sum(), scale=140, geometry=image.geometry())\n",
    "    area = ee.Number(areaDict.get('area')).divide(1e6)\n",
    "    name = image.get(\"name\")\n",
    "    newFeat = ee.Feature(image.geometry())\n",
    "    newFeat = newFeat.set({'area':area, 'name':name})\n",
    "    #newFeat = ee.Feature.setGeometry()\n",
    "    return newFeat"
   ]
  },
  {
   "cell_type": "code",
   "execution_count": null,
   "metadata": {
    "tags": []
   },
   "outputs": [],
   "source": []
  },
  {
   "cell_type": "code",
   "execution_count": null,
   "metadata": {
    "tags": []
   },
   "outputs": [],
   "source": [
    "\n"
   ]
  },
  {
   "cell_type": "code",
   "execution_count": null,
   "metadata": {
    "tags": []
   },
   "outputs": [],
   "source": [
    "# Scenario 1 - Max Exclusions\n",
    "\n",
    "\n",
    "common = getExclusions()\n",
    "wind = getExclusions(\"wind\")\n",
    "solar = getExclusions(\"solar\")\n",
    "\n",
    "\n",
    "#Scenario 1 - Max Exclusions\n",
    "MaxWindExclusions = common + wind\n",
    "MaxSolarExclusions = common + solar\n",
    "\n",
    "maxExcl = {\"wind\":MaxWindExclusions, \"solar\": MaxSolarExclusions}\n",
    "\n",
    "#Scenario 2 - Med Exclusions: \n",
    "MedWindExclusions = common + wind\n",
    "MedWindExclusions.remove(\"Peatland\")\n",
    "MedWindExclusions.remove(\"Areas of Natural Beauty\")\n",
    "\n",
    "MedSolarExclusions = common + solar\n",
    "MedSolarExclusions.remove(\"Peatland\")\n",
    "MedSolarExclusions.remove(\"Areas of Natural Beauty\")\n",
    "\n",
    "medExcl = {\"wind\":MedWindExclusions, \"solar\": MedSolarExclusions}\n",
    "\n",
    "#Scenario 3 - Min Exclusions\n",
    "MinWindExclusions = common + wind\n",
    "MinWindExclusions.remove(\"Peatland\")\n",
    "MinWindExclusions.remove(\"Areas of Natural Beauty\")\n",
    "MinWindExclusions.remove(\"England National Parks\")\n",
    "MinWindExclusions.remove(\"Scotland Scenic Areas\")\n",
    "MinWindExclusions.remove(\"Wales National Park\")\n",
    "\n",
    "MinSolarExclusions = common + solar\n",
    "MinSolarExclusions.remove(\"Peatland\")\n",
    "MinSolarExclusions.remove(\"Areas of Natural Beauty\")\n",
    "MinSolarExclusions.remove(\"England National Parks\")\n",
    "MinSolarExclusions.remove(\"Scotland Scenic Areas\")\n",
    "MinSolarExclusions.remove(\"Wales National Park\")\n",
    "\n",
    "minExcl = {\"wind\":MinWindExclusions, \"solar\": MinSolarExclusions}\n",
    "\n",
    "\n",
    "paramsDict = {\"min\":minExcl, \"med\":medExcl, \"max\": maxExcl}\n",
    "\n",
    "\n",
    "def getPowerLocal(geometry, exclusions, power):\n",
    "    localPower = power.multiply(exclusions).clip(geometry)\n",
    "    return localPower\n",
    "\n",
    "exDict = getExclusionsDict()\n",
    "resultsDict = {}\n",
    "paramList = list(paramsDict.keys())\n",
    "\n",
    "\n",
    "ladNameList = load_csv_list(\"local_authorities_name.csv\")[1:]\n",
    "\n",
    "LADVector= ladsVector()\n",
    "\n",
    "for idx, exp in enumerate(paramList):\n",
    "    exclDict = getExclusionsDict()\n",
    "    windExc = paramsDict[exp]['wind']\n",
    "    solarExc = paramsDict[exp]['solar']\n",
    "    print(windExc)\n",
    "    \n",
    "    #windExclusionList = [exclDict[x] for x in windExc]\n",
    "    #for ex in windExclusionList:                      \n",
    "    \n",
    "    names = []\n",
    "    solarAreas = []\n",
    "    windAreas = []\n",
    "    \n",
    "    \n",
    "    for idx2, geomName in enumerate(ladNameList):\n",
    "        try:\n",
    "            areaRast = ee.Image.constant(1)\n",
    "            areaRast = areaRast.reproject(areaRast.projection().atScale(100)).pixelArea()\n",
    "\n",
    "            activeFeat = LADVector.filter(f\"LAD21NM == '{geomName}'\").first()\n",
    "            activeGeom = activeFeat.geometry()\n",
    "\n",
    "            areaRast = areaRast.clip(activeGeom)\n",
    "\n",
    "\n",
    "            def getTotalArea(feat):\n",
    "                return areaRast.reduceRegion(ee.Reducer.sum(), feat, 100)\n",
    "\n",
    "\n",
    "\n",
    "            for x in windExc:\n",
    "                ex = exclDict[x]\n",
    "                areaRast = areaRast.multiply(ex)\n",
    "            areaRast = minimumMappingUnit(areaRast, 7)\n",
    "            windArea = getTotalArea(activeGeom).getInfo()['area']\n",
    "\n",
    "\n",
    "            areaRast = ee.Image.constant(1)\n",
    "            areaRast = areaRast.reproject(areaRast.projection().atScale(100)).pixelArea()\n",
    "\n",
    "            for x in solarExc:\n",
    "                ex = exclDict[x]\n",
    "                areaRast = areaRast.multiply(ex)\n",
    "            areaRast = minimumMappingUnit(areaRast, 7)\n",
    "            solarArea = getTotalArea(activeGeom).getInfo()['area']\n",
    "            names.append(geomName)\n",
    "            solarAreas.append(solarArea)\n",
    "            windAreas.append(windArea)\n",
    "            print(geomName, 'wind power', windArea, 'solar power', solarArea)\n",
    "            print(idx2, 'of', len(ladNameList), 'done')\n",
    "        except:\n",
    "            names.append(geomName)\n",
    "            solarAreas.append('failed')\n",
    "            windAreas.append('failed')\n",
    "            print(idx2, 'of', len(ladNameList), 'failed')\n",
    "\n",
    "    resultsFrame = pd.DataFrame([names, solarAreas, windAreas]).T\n",
    "    resultsFrame.columns = ['area name', 'solar power area', 'wind powe area']\n",
    "    resultsFrame.to_csv(f'{exp}.csv')\n",
    "    resultsDict[exp] = resultsFrame\n",
    "    \n",
    "        #print(getTotalArea(LADVector.first().geometry()).getInfo())\n",
    "    \n",
    "    \n",
    "        \n",
    "    \n",
    "\n",
    "\n",
    "string = '''\n",
    "for exp in paramList:\n",
    "    \n",
    "    areaRast = ee.Image.constant(1)\n",
    "    windExc = paramsDict[exp]['wind']\n",
    "    solarExc = paramsDict[exp]['solar']\n",
    "    print(solarExc)\n",
    "    assert windExc != solarExc\n",
    "\n",
    "    windExclusions = [exDict[x] for x in windExc]\n",
    "    solarExclusions = [exDict[x] for x in solarExc]\n",
    "\n",
    "    windExclusions = compute_exclusions(windExclusions)\n",
    "    solarExclusions = compute_exclusions(solarExclusions)\n",
    "\n",
    "    featCol = constituenciesVector()\n",
    "\n",
    "\n",
    "\n",
    "    solarAreaImgCol = ee.ImageCollection(featCol.map(lambda x: getFeatureRaster(x, solarExclusions, areaRast).set(\"name\", ee.String(x.get('pcon19nm'))) ))\n",
    "    windAreaImgCol = ee.ImageCollection(featCol.map(lambda x: getFeatureRaster(x, windExclusions, areaRast).set(\"name\", ee.String(x.get('pcon19nm'))) ))\n",
    "    \n",
    "    #windAreaImgCol = windAreaImgCol.updateMask(solarAreaImgCol.gte(1))\n",
    "\n",
    "    windAreaReduced = windAreaImgCol.map(reduceToArea)\n",
    "    windarr = windAreaReduced.aggregate_array('area').getInfo()\n",
    "    windNames = windAreaReduced.aggregate_array('name').getInfo()\n",
    "    windPFrame = pd.DataFrame(windarr, index=windNames, columns=[\"Wind Area (KM^2)\"])\n",
    "\n",
    "    solarAreaReduced = solarAreaImgCol.map(reduceToArea)\n",
    "    solarr = solarAreaReduced.aggregate_array('area').getInfo()\n",
    "    solNames = solarAreaReduced.aggregate_array('name').getInfo()\n",
    "    solPFrame = pd.DataFrame(solarr, index=solNames, columns=[\"Solar Area (KM^2)\"])\n",
    "\n",
    "    potentialFrame = solPFrame.join(windPFrame)\n",
    "    assert solarr != windarr\n",
    "    resultsDict[exp] = potentialFrame\n",
    "'''"
   ]
  },
  {
   "cell_type": "code",
   "execution_count": null,
   "metadata": {
    "tags": []
   },
   "outputs": [],
   "source": [
    "    resultsFrame = pd.DataFrame([names, solarAreas, windAreas]).T\n",
    "    resultsFrame.columns = ['area name', 'solar power area', 'wind powe area']\n"
   ]
  },
  {
   "cell_type": "code",
   "execution_count": null,
   "metadata": {
    "tags": []
   },
   "outputs": [],
   "source": [
    "resultsFrame"
   ]
  },
  {
   "cell_type": "code",
   "execution_count": null,
   "metadata": {
    "tags": []
   },
   "outputs": [],
   "source": []
  },
  {
   "cell_type": "code",
   "execution_count": null,
   "metadata": {
    "tags": []
   },
   "outputs": [],
   "source": [
    "solarExclusions"
   ]
  },
  {
   "cell_type": "code",
   "execution_count": null,
   "metadata": {},
   "outputs": [],
   "source": [
    "break"
   ]
  },
  {
   "cell_type": "code",
   "execution_count": null,
   "metadata": {
    "tags": []
   },
   "outputs": [],
   "source": [
    "solarExcmin = paramsDict[\"min\"]['solar']\n",
    "solarExcmax = paramsDict[\"max\"]['solar']\n",
    "solExclMin = [exDict[x] for x in solarExcmin]\n",
    "solExclMax = [exDict[x] for x in solarExcmax]"
   ]
  },
  {
   "cell_type": "code",
   "execution_count": null,
   "metadata": {
    "tags": []
   },
   "outputs": [],
   "source": [
    "solExclMin == solExclMax"
   ]
  },
  {
   "cell_type": "code",
   "execution_count": null,
   "metadata": {
    "tags": []
   },
   "outputs": [],
   "source": [
    "solarExcmax"
   ]
  },
  {
   "cell_type": "code",
   "execution_count": null,
   "metadata": {
    "tags": []
   },
   "outputs": [],
   "source": [
    "potentialFrame"
   ]
  },
  {
   "cell_type": "code",
   "execution_count": null,
   "metadata": {
    "tags": []
   },
   "outputs": [],
   "source": [
    "constVect.first().get('pcon19nm').getInfo()"
   ]
  },
  {
   "cell_type": "code",
   "execution_count": null,
   "metadata": {
    "tags": []
   },
   "outputs": [],
   "source": [
    "constVect.map(lambda x: getPowerLocal(x, solarExclusions, areaRast)).getInfo()"
   ]
  },
  {
   "cell_type": "code",
   "execution_count": null,
   "metadata": {
    "tags": []
   },
   "outputs": [],
   "source": [
    "solarr == windarr"
   ]
  },
  {
   "cell_type": "code",
   "execution_count": null,
   "metadata": {},
   "outputs": [],
   "source": []
  },
  {
   "cell_type": "code",
   "execution_count": null,
   "metadata": {
    "tags": []
   },
   "outputs": [],
   "source": [
    "solarr "
   ]
  },
  {
   "cell_type": "code",
   "execution_count": null,
   "metadata": {},
   "outputs": [],
   "source": []
  },
  {
   "cell_type": "code",
   "execution_count": null,
   "metadata": {
    "tags": []
   },
   "outputs": [],
   "source": [
    "areaReduced.first().getInfo()"
   ]
  },
  {
   "cell_type": "code",
   "execution_count": null,
   "metadata": {},
   "outputs": [],
   "source": []
  }
 ],
 "metadata": {
  "kernelspec": {
   "display_name": "conda_amazonei_pytorch_latest_p37",
   "language": "python",
   "name": "conda_amazonei_pytorch_latest_p37"
  },
  "language_info": {
   "codemirror_mode": {
    "name": "ipython",
    "version": 3
   },
   "file_extension": ".py",
   "mimetype": "text/x-python",
   "name": "python",
   "nbconvert_exporter": "python",
   "pygments_lexer": "ipython3",
   "version": "3.7.10"
  },
  "vscode": {
   "interpreter": {
    "hash": "722a69f3954838cd5b29338a502d57b37830efcb1dfded196b752339d8a2a591"
   }
  }
 },
 "nbformat": 4,
 "nbformat_minor": 4
}
