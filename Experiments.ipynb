{
 "cells": [
  {
   "cell_type": "code",
   "execution_count": 1,
   "metadata": {
    "tags": []
   },
   "outputs": [
    {
     "name": "stdout",
     "output_type": "stream",
     "text": [
      "Looking in indexes: https://pypi.org/simple, https://pip.repos.neuron.amazonaws.com\n",
      "Collecting streamlit\n",
      "  Downloading streamlit-1.21.0-py2.py3-none-any.whl (9.7 MB)\n",
      "\u001b[2K     \u001b[90m━━━━━━━━━━━━━━━━━━━━━━━━━━━━━━━━━━━━━━━━\u001b[0m \u001b[32m9.7/9.7 MB\u001b[0m \u001b[31m78.2 MB/s\u001b[0m eta \u001b[36m0:00:00\u001b[0m:00:01\u001b[0m00:01\u001b[0m\n",
      "\u001b[?25hCollecting geemap\n",
      "  Downloading geemap-0.20.4-py2.py3-none-any.whl (2.1 MB)\n",
      "\u001b[2K     \u001b[90m━━━━━━━━━━━━━━━━━━━━━━━━━━━━━━━━━━━━━━━━\u001b[0m \u001b[32m2.1/2.1 MB\u001b[0m \u001b[31m38.8 MB/s\u001b[0m eta \u001b[36m0:00:00\u001b[0m:00:01\u001b[0m\n",
      "\u001b[?25hCollecting streamlit_folium\n",
      "  Downloading streamlit_folium-0.11.1-py3-none-any.whl (423 kB)\n",
      "\u001b[2K     \u001b[90m━━━━━━━━━━━━━━━━━━━━━━━━━━━━━━━━━━━━━━\u001b[0m \u001b[32m423.4/423.4 kB\u001b[0m \u001b[31m13.7 MB/s\u001b[0m eta \u001b[36m0:00:00\u001b[0m\n",
      "\u001b[?25hCollecting google-auth\n",
      "  Downloading google_auth-2.17.3-py2.py3-none-any.whl (178 kB)\n",
      "\u001b[2K     \u001b[90m━━━━━━━━━━━━━━━━━━━━━━━━━━━━━━━━━━━━━━\u001b[0m \u001b[32m178.2/178.2 kB\u001b[0m \u001b[31m44.3 MB/s\u001b[0m eta \u001b[36m0:00:00\u001b[0m\n",
      "\u001b[?25hCollecting geopy\n",
      "  Downloading geopy-2.3.0-py3-none-any.whl (119 kB)\n",
      "\u001b[2K     \u001b[90m━━━━━━━━━━━━━━━━━━━━━━━━━━━━━━━━━━━━━━\u001b[0m \u001b[32m119.8/119.8 kB\u001b[0m \u001b[31m29.6 MB/s\u001b[0m eta \u001b[36m0:00:00\u001b[0m\n",
      "\u001b[?25hRequirement already satisfied: flask in /home/ec2-user/anaconda3/envs/amazonei_pytorch_latest_p37/lib/python3.7/site-packages (from -r requirements.txt (line 6)) (2.2.2)\n",
      "Collecting retry\n",
      "  Downloading retry-0.9.2-py2.py3-none-any.whl (8.0 kB)\n",
      "Collecting watchdog\n",
      "  Downloading watchdog-3.0.0-py3-none-manylinux2014_x86_64.whl (82 kB)\n",
      "\u001b[2K     \u001b[90m━━━━━━━━━━━━━━━━━━━━━━━━━━━━━━━━━━━━━━━━\u001b[0m \u001b[32m82.1/82.1 kB\u001b[0m \u001b[31m17.4 MB/s\u001b[0m eta \u001b[36m0:00:00\u001b[0m\n",
      "\u001b[?25hCollecting altair<5,>=3.2.0\n",
      "  Downloading altair-4.2.2-py3-none-any.whl (813 kB)\n",
      "\u001b[2K     \u001b[90m━━━━━━━━━━━━━━━━━━━━━━━━━━━━━━━━━━━━━━\u001b[0m \u001b[32m813.6/813.6 kB\u001b[0m \u001b[31m55.5 MB/s\u001b[0m eta \u001b[36m0:00:00\u001b[0m\n",
      "\u001b[?25hCollecting pympler>=0.9\n",
      "  Downloading Pympler-1.0.1-py3-none-any.whl (164 kB)\n",
      "\u001b[2K     \u001b[90m━━━━━━━━━━━━━━━━━━━━━━━━━━━━━━━━━━━━━━━\u001b[0m \u001b[32m164.8/164.8 kB\u001b[0m \u001b[31m3.0 MB/s\u001b[0m eta \u001b[36m0:00:00\u001b[0m00:01\u001b[0m\n",
      "\u001b[?25hRequirement already satisfied: tornado>=6.0.3 in /home/ec2-user/anaconda3/envs/amazonei_pytorch_latest_p37/lib/python3.7/site-packages (from streamlit->-r requirements.txt (line 1)) (6.2)\n",
      "Requirement already satisfied: typing-extensions>=3.10.0.0 in /home/ec2-user/anaconda3/envs/amazonei_pytorch_latest_p37/lib/python3.7/site-packages (from streamlit->-r requirements.txt (line 1)) (4.5.0)\n",
      "Requirement already satisfied: click>=7.0 in /home/ec2-user/anaconda3/envs/amazonei_pytorch_latest_p37/lib/python3.7/site-packages (from streamlit->-r requirements.txt (line 1)) (8.1.3)\n",
      "Collecting blinker>=1.0.0\n",
      "  Downloading blinker-1.6.2-py3-none-any.whl (13 kB)\n",
      "Requirement already satisfied: importlib-metadata>=1.4 in /home/ec2-user/anaconda3/envs/amazonei_pytorch_latest_p37/lib/python3.7/site-packages (from streamlit->-r requirements.txt (line 1)) (4.11.4)\n",
      "Collecting validators>=0.2\n",
      "  Downloading validators-0.20.0.tar.gz (30 kB)\n",
      "  Preparing metadata (setup.py) ... \u001b[?25ldone\n",
      "\u001b[?25hRequirement already satisfied: python-dateutil in /home/ec2-user/anaconda3/envs/amazonei_pytorch_latest_p37/lib/python3.7/site-packages (from streamlit->-r requirements.txt (line 1)) (2.8.2)\n",
      "Requirement already satisfied: protobuf<4,>=3.12 in /home/ec2-user/anaconda3/envs/amazonei_pytorch_latest_p37/lib/python3.7/site-packages (from streamlit->-r requirements.txt (line 1)) (3.20.3)\n",
      "Requirement already satisfied: requests>=2.4 in /home/ec2-user/anaconda3/envs/amazonei_pytorch_latest_p37/lib/python3.7/site-packages (from streamlit->-r requirements.txt (line 1)) (2.28.1)\n",
      "Collecting cachetools>=4.0\n",
      "  Downloading cachetools-5.3.0-py3-none-any.whl (9.3 kB)\n",
      "Collecting tzlocal>=1.1\n",
      "  Downloading tzlocal-4.3-py3-none-any.whl (20 kB)\n",
      "Collecting rich>=10.11.0\n",
      "  Downloading rich-13.3.4-py3-none-any.whl (238 kB)\n",
      "\u001b[2K     \u001b[90m━━━━━━━━━━━━━━━━━━━━━━━━━━━━━━━━━━━━━━━\u001b[0m \u001b[32m238.7/238.7 kB\u001b[0m \u001b[31m6.4 MB/s\u001b[0m eta \u001b[36m0:00:00\u001b[0m\n",
      "\u001b[?25hRequirement already satisfied: pandas<2,>=0.25 in /home/ec2-user/anaconda3/envs/amazonei_pytorch_latest_p37/lib/python3.7/site-packages (from streamlit->-r requirements.txt (line 1)) (1.3.5)\n",
      "Requirement already satisfied: toml in /home/ec2-user/anaconda3/envs/amazonei_pytorch_latest_p37/lib/python3.7/site-packages (from streamlit->-r requirements.txt (line 1)) (0.10.2)\n",
      "Requirement already satisfied: numpy in /home/ec2-user/anaconda3/envs/amazonei_pytorch_latest_p37/lib/python3.7/site-packages (from streamlit->-r requirements.txt (line 1)) (1.21.6)\n",
      "Collecting pydeck>=0.1.dev5\n",
      "  Downloading pydeck-0.8.1b0-py2.py3-none-any.whl (4.8 MB)\n",
      "\u001b[2K     \u001b[90m━━━━━━━━━━━━━━━━━━━━━━━━━━━━━━━━━━━━━━━━\u001b[0m \u001b[32m4.8/4.8 MB\u001b[0m \u001b[31m8.6 MB/s\u001b[0m eta \u001b[36m0:00:00\u001b[0m:00:01\u001b[0m00:01\u001b[0m\n",
      "\u001b[?25hCollecting pyarrow>=4.0\n",
      "  Downloading pyarrow-11.0.0-cp37-cp37m-manylinux_2_17_x86_64.manylinux2014_x86_64.whl (35.1 MB)\n",
      "\u001b[2K     \u001b[90m━━━━━━━━━━━━━━━━━━━━━━━━━━━━━━━━━━━━━━━━\u001b[0m \u001b[32m35.1/35.1 MB\u001b[0m \u001b[31m13.0 MB/s\u001b[0m eta \u001b[36m0:00:00\u001b[0m00:01\u001b[0m00:01\u001b[0m\n",
      "\u001b[?25hCollecting gitpython!=3.1.19\n",
      "  Using cached GitPython-3.1.31-py3-none-any.whl (184 kB)\n",
      "Requirement already satisfied: pillow>=6.2.0 in /home/ec2-user/anaconda3/envs/amazonei_pytorch_latest_p37/lib/python3.7/site-packages (from streamlit->-r requirements.txt (line 1)) (9.4.0)\n",
      "Requirement already satisfied: packaging>=14.1 in /home/ec2-user/anaconda3/envs/amazonei_pytorch_latest_p37/lib/python3.7/site-packages (from streamlit->-r requirements.txt (line 1)) (21.3)\n",
      "Collecting geocoder\n",
      "  Downloading geocoder-1.38.1-py2.py3-none-any.whl (98 kB)\n",
      "\u001b[2K     \u001b[90m━━━━━━━━━━━━━━━━━━━━━━━━━━━━━━━━━━━━━━━━\u001b[0m \u001b[32m98.6/98.6 kB\u001b[0m \u001b[31m24.6 MB/s\u001b[0m eta \u001b[36m0:00:00\u001b[0m\n",
      "\u001b[?25hCollecting python-box\n",
      "  Downloading python_box-7.0.1-cp37-cp37m-manylinux_2_5_x86_64.manylinux1_x86_64.manylinux_2_12_x86_64.manylinux2010_x86_64.whl (2.9 MB)\n",
      "\u001b[2K     \u001b[90m━━━━━━━━━━━━━━━━━━━━━━━━━━━━━━━━━━━━━━━━\u001b[0m \u001b[32m2.9/2.9 MB\u001b[0m \u001b[31m44.2 MB/s\u001b[0m eta \u001b[36m0:00:00\u001b[0m:00:01\u001b[0m\n",
      "\u001b[?25hCollecting geeadd>=0.5.1\n",
      "  Downloading geeadd-0.5.6-py3-none-any.whl (30 kB)\n",
      "Collecting ffmpeg-python\n",
      "  Downloading ffmpeg_python-0.2.0-py3-none-any.whl (25 kB)\n",
      "Collecting xyzservices\n",
      "  Downloading xyzservices-2023.2.0-py3-none-any.whl (55 kB)\n",
      "\u001b[2K     \u001b[90m━━━━━━━━━━━━━━━━━━━━━━━━━━━━━━━━━━━━━━━━\u001b[0m \u001b[32m55.4/55.4 kB\u001b[0m \u001b[31m16.3 MB/s\u001b[0m eta \u001b[36m0:00:00\u001b[0m\n",
      "\u001b[?25hCollecting geojson\n",
      "  Downloading geojson-3.0.1-py3-none-any.whl (15 kB)\n",
      "Collecting pycrs\n",
      "  Downloading PyCRS-1.0.2.tar.gz (36 kB)\n",
      "  Preparing metadata (setup.py) ... \u001b[?25ldone\n",
      "\u001b[?25hCollecting pyshp>=2.1.3\n",
      "  Downloading pyshp-2.3.1-py2.py3-none-any.whl (46 kB)\n",
      "\u001b[2K     \u001b[90m━━━━━━━━━━━━━━━━━━━━━━━━━━━━━━━━━━━━━━━━\u001b[0m \u001b[32m46.5/46.5 kB\u001b[0m \u001b[31m11.7 MB/s\u001b[0m eta \u001b[36m0:00:00\u001b[0m\n",
      "\u001b[?25hCollecting folium>=0.11.0\n",
      "  Downloading folium-0.14.0-py2.py3-none-any.whl (102 kB)\n",
      "\u001b[2K     \u001b[90m━━━━━━━━━━━━━━━━━━━━━━━━━━━━━━━━━━━━━━\u001b[0m \u001b[32m102.3/102.3 kB\u001b[0m \u001b[31m27.8 MB/s\u001b[0m eta \u001b[36m0:00:00\u001b[0m\n",
      "\u001b[?25hCollecting ipyfilechooser>=0.6.0\n",
      "  Downloading ipyfilechooser-0.6.0-py3-none-any.whl (11 kB)\n",
      "Collecting ipyleaflet>=0.17.0\n",
      "  Downloading ipyleaflet-0.17.2-py3-none-any.whl (3.7 MB)\n",
      "\u001b[2K     \u001b[90m━━━━━━━━━━━━━━━━━━━━━━━━━━━━━━━━━━━━━━━━\u001b[0m \u001b[32m3.7/3.7 MB\u001b[0m \u001b[31m91.0 MB/s\u001b[0m eta \u001b[36m0:00:00\u001b[0m:00:01\u001b[0m\n",
      "\u001b[?25hCollecting bqplot\n",
      "  Downloading bqplot-0.12.39-py2.py3-none-any.whl (1.2 MB)\n",
      "\u001b[2K     \u001b[90m━━━━━━━━━━━━━━━━━━━━━━━━━━━━━━━━━━━━━━━━\u001b[0m \u001b[32m1.2/1.2 MB\u001b[0m \u001b[31m80.8 MB/s\u001b[0m eta \u001b[36m0:00:00\u001b[0m\n",
      "\u001b[?25hCollecting colour\n",
      "  Downloading colour-0.1.5-py2.py3-none-any.whl (23 kB)\n",
      "Collecting ipytree\n",
      "  Downloading ipytree-0.2.2-py2.py3-none-any.whl (1.3 MB)\n",
      "\u001b[2K     \u001b[90m━━━━━━━━━━━━━━━━━━━━━━━━━━━━━━━━━━━━━━━━\u001b[0m \u001b[32m1.3/1.3 MB\u001b[0m \u001b[31m28.8 MB/s\u001b[0m eta \u001b[36m0:00:00\u001b[0m:00:01\u001b[0m\n",
      "\u001b[?25hCollecting ipywidgets<8.0.0\n",
      "  Downloading ipywidgets-7.7.5-py2.py3-none-any.whl (123 kB)\n",
      "\u001b[2K     \u001b[90m━━━━━━━━━━━━━━━━━━━━━━━━━━━━━━━━━━━━━━━\u001b[0m \u001b[32m123.9/123.9 kB\u001b[0m \u001b[31m3.9 MB/s\u001b[0m eta \u001b[36m0:00:00\u001b[0m\n",
      "\u001b[?25hCollecting gdown\n",
      "  Downloading gdown-4.7.1-py3-none-any.whl (15 kB)\n",
      "Requirement already satisfied: matplotlib in /home/ec2-user/anaconda3/envs/amazonei_pytorch_latest_p37/lib/python3.7/site-packages (from geemap->-r requirements.txt (line 2)) (3.5.3)\n",
      "Collecting eerepr>=0.0.4\n",
      "  Downloading eerepr-0.0.4-py3-none-any.whl (9.7 kB)\n",
      "Collecting ipyevents\n",
      "  Downloading ipyevents-2.0.1-py2.py3-none-any.whl (130 kB)\n",
      "\u001b[2K     \u001b[90m━━━━━━━━━━━━━━━━━━━━━━━━━━━━━━━━━━━━━━\u001b[0m \u001b[32m130.5/130.5 kB\u001b[0m \u001b[31m12.0 MB/s\u001b[0m eta \u001b[36m0:00:00\u001b[0m\n",
      "\u001b[?25hCollecting sankee>=0.1.0\n",
      "  Downloading sankee-0.2.3.tar.gz (30 kB)\n",
      "  Preparing metadata (setup.py) ... \u001b[?25ldone\n",
      "\u001b[?25hCollecting pyperclip\n",
      "  Downloading pyperclip-1.8.2.tar.gz (20 kB)\n",
      "  Preparing metadata (setup.py) ... \u001b[?25ldone\n",
      "\u001b[?25hCollecting scooby\n",
      "  Downloading scooby-0.7.1-py3-none-any.whl (16 kB)\n",
      "Collecting whiteboxgui>=0.6.0\n",
      "  Downloading whiteboxgui-2.3.0-py2.py3-none-any.whl (108 kB)\n",
      "\u001b[2K     \u001b[90m━━━━━━━━━━━━━━━━━━━━━━━━━━━━━━━━━━━━━━\u001b[0m \u001b[32m108.6/108.6 kB\u001b[0m \u001b[31m27.5 MB/s\u001b[0m eta \u001b[36m0:00:00\u001b[0m\n",
      "\u001b[?25hCollecting earthengine-api>=0.1.304\n",
      "  Downloading earthengine-api-0.1.350.tar.gz (245 kB)\n",
      "\u001b[2K     \u001b[90m━━━━━━━━━━━━━━━━━━━━━━━━━━━━━━━━━━━━━━━\u001b[0m \u001b[32m246.0/246.0 kB\u001b[0m \u001b[31m8.8 MB/s\u001b[0m eta \u001b[36m0:00:00\u001b[0m\n",
      "\u001b[?25h  Preparing metadata (setup.py) ... \u001b[?25ldone\n",
      "\u001b[?25hCollecting ee-extra>=0.0.10\n",
      "  Downloading ee_extra-0.0.15.tar.gz (224 kB)\n",
      "\u001b[2K     \u001b[90m━━━━━━━━━━━━━━━━━━━━━━━━━━━━━━━━━━━━━━━\u001b[0m \u001b[32m224.7/224.7 kB\u001b[0m \u001b[31m7.4 MB/s\u001b[0m eta \u001b[36m0:00:00\u001b[0m\n",
      "\u001b[?25h  Preparing metadata (setup.py) ... \u001b[?25ldone\n",
      "\u001b[?25hCollecting branca\n",
      "  Downloading branca-0.6.0-py3-none-any.whl (24 kB)\n",
      "Requirement already satisfied: jinja2 in /home/ec2-user/anaconda3/envs/amazonei_pytorch_latest_p37/lib/python3.7/site-packages (from streamlit_folium->-r requirements.txt (line 3)) (3.1.2)\n",
      "Requirement already satisfied: rsa<5,>=3.1.4 in /home/ec2-user/anaconda3/envs/amazonei_pytorch_latest_p37/lib/python3.7/site-packages (from google-auth->-r requirements.txt (line 4)) (4.7.2)\n",
      "Requirement already satisfied: six>=1.9.0 in /home/ec2-user/anaconda3/envs/amazonei_pytorch_latest_p37/lib/python3.7/site-packages (from google-auth->-r requirements.txt (line 4)) (1.16.0)\n",
      "Collecting pyasn1-modules>=0.2.1\n",
      "  Downloading pyasn1_modules-0.3.0-py2.py3-none-any.whl (181 kB)\n",
      "\u001b[2K     \u001b[90m━━━━━━━━━━━━━━━━━━━━━━━━━━━━━━━━━━━━━━\u001b[0m \u001b[32m181.3/181.3 kB\u001b[0m \u001b[31m43.4 MB/s\u001b[0m eta \u001b[36m0:00:00\u001b[0m\n",
      "\u001b[?25hCollecting geographiclib<3,>=1.52\n",
      "  Downloading geographiclib-2.0-py3-none-any.whl (40 kB)\n",
      "\u001b[2K     \u001b[90m━━━━━━━━━━━━━━━━━━━━━━━━━━━━━━━━━━━━━━━━\u001b[0m \u001b[32m40.3/40.3 kB\u001b[0m \u001b[31m11.6 MB/s\u001b[0m eta \u001b[36m0:00:00\u001b[0m\n",
      "\u001b[?25hRequirement already satisfied: itsdangerous>=2.0 in /home/ec2-user/anaconda3/envs/amazonei_pytorch_latest_p37/lib/python3.7/site-packages (from flask->-r requirements.txt (line 6)) (2.1.2)\n",
      "Requirement already satisfied: Werkzeug>=2.2.2 in /home/ec2-user/anaconda3/envs/amazonei_pytorch_latest_p37/lib/python3.7/site-packages (from flask->-r requirements.txt (line 6)) (2.2.2)\n",
      "Collecting py<2.0.0,>=1.4.26\n",
      "  Downloading py-1.11.0-py2.py3-none-any.whl (98 kB)\n",
      "\u001b[2K     \u001b[90m━━━━━━━━━━━━━━━━━━━━━━━━━━━━━━━━━━━━━━━━\u001b[0m \u001b[32m98.7/98.7 kB\u001b[0m \u001b[31m2.1 MB/s\u001b[0m eta \u001b[36m0:00:00\u001b[0mta \u001b[36m0:00:01\u001b[0m\n",
      "\u001b[?25hRequirement already satisfied: decorator>=3.4.2 in /home/ec2-user/anaconda3/envs/amazonei_pytorch_latest_p37/lib/python3.7/site-packages (from retry->-r requirements.txt (line 7)) (5.1.1)\n",
      "Requirement already satisfied: jsonschema>=3.0 in /home/ec2-user/anaconda3/envs/amazonei_pytorch_latest_p37/lib/python3.7/site-packages (from altair<5,>=3.2.0->streamlit->-r requirements.txt (line 1)) (3.2.0)\n",
      "Requirement already satisfied: entrypoints in /home/ec2-user/anaconda3/envs/amazonei_pytorch_latest_p37/lib/python3.7/site-packages (from altair<5,>=3.2.0->streamlit->-r requirements.txt (line 1)) (0.4)\n",
      "Requirement already satisfied: toolz in /home/ec2-user/anaconda3/envs/amazonei_pytorch_latest_p37/lib/python3.7/site-packages (from altair<5,>=3.2.0->streamlit->-r requirements.txt (line 1)) (0.12.0)\n",
      "Collecting google-cloud-storage\n",
      "  Downloading google_cloud_storage-2.8.0-py2.py3-none-any.whl (113 kB)\n",
      "\u001b[2K     \u001b[90m━━━━━━━━━━━━━━━━━━━━━━━━━━━━━━━━━━━━━━\u001b[0m \u001b[32m113.6/113.6 kB\u001b[0m \u001b[31m33.9 MB/s\u001b[0m eta \u001b[36m0:00:00\u001b[0m\n",
      "\u001b[?25hCollecting google-api-python-client>=1.12.1\n",
      "  Downloading google_api_python_client-2.86.0-py2.py3-none-any.whl (11.3 MB)\n",
      "\u001b[2K     \u001b[90m━━━━━━━━━━━━━━━━━━━━━━━━━━━━━━━━━━━━━━━━\u001b[0m \u001b[32m11.3/11.3 MB\u001b[0m \u001b[31m95.3 MB/s\u001b[0m eta \u001b[36m0:00:00\u001b[0m00:01\u001b[0m00:01\u001b[0m\n",
      "\u001b[?25hCollecting google-auth-httplib2>=0.0.3\n",
      "  Downloading google_auth_httplib2-0.1.0-py2.py3-none-any.whl (9.3 kB)\n",
      "Collecting httplib2<1dev,>=0.9.2\n",
      "  Downloading httplib2-0.22.0-py3-none-any.whl (96 kB)\n",
      "\u001b[2K     \u001b[90m━━━━━━━━━━━━━━━━━━━━━━━━━━━━━━━━━━━━━━━━\u001b[0m \u001b[32m96.9/96.9 kB\u001b[0m \u001b[31m26.6 MB/s\u001b[0m eta \u001b[36m0:00:00\u001b[0m\n",
      "\u001b[?25hRequirement already satisfied: beautifulsoup4>=4.9.0 in /home/ec2-user/anaconda3/envs/amazonei_pytorch_latest_p37/lib/python3.7/site-packages (from geeadd>=0.5.1->geemap->-r requirements.txt (line 2)) (4.11.1)\n",
      "Collecting logzero>=1.5.0\n",
      "  Downloading logzero-1.7.0-py2.py3-none-any.whl (16 kB)\n",
      "Collecting gitdb<5,>=4.0.1\n",
      "  Using cached gitdb-4.0.10-py3-none-any.whl (62 kB)\n",
      "Requirement already satisfied: zipp>=0.5 in /home/ec2-user/anaconda3/envs/amazonei_pytorch_latest_p37/lib/python3.7/site-packages (from importlib-metadata>=1.4->streamlit->-r requirements.txt (line 1)) (3.11.0)\n",
      "Collecting traittypes<3,>=0.2.1\n",
      "  Downloading traittypes-0.2.1-py2.py3-none-any.whl (8.6 kB)\n",
      "Requirement already satisfied: ipython>=4.0.0 in /home/ec2-user/anaconda3/envs/amazonei_pytorch_latest_p37/lib/python3.7/site-packages (from ipywidgets<8.0.0->geemap->-r requirements.txt (line 2)) (7.33.0)\n",
      "Requirement already satisfied: traitlets>=4.3.1 in /home/ec2-user/anaconda3/envs/amazonei_pytorch_latest_p37/lib/python3.7/site-packages (from ipywidgets<8.0.0->geemap->-r requirements.txt (line 2)) (5.8.1)\n",
      "Collecting widgetsnbextension~=3.6.4\n",
      "  Downloading widgetsnbextension-3.6.4-py2.py3-none-any.whl (1.6 MB)\n",
      "\u001b[2K     \u001b[90m━━━━━━━━━━━━━━━━━━━━━━━━━━━━━━━━━━━━━━━━\u001b[0m \u001b[32m1.6/1.6 MB\u001b[0m \u001b[31m39.1 MB/s\u001b[0m eta \u001b[36m0:00:00\u001b[0m:00:01\u001b[0m\n",
      "\u001b[?25hCollecting jupyterlab-widgets<3,>=1.0.0\n",
      "  Downloading jupyterlab_widgets-1.1.4-py3-none-any.whl (246 kB)\n",
      "\u001b[2K     \u001b[90m━━━━━━━━━━━━━━━━━━━━━━━━━━━━━━━━━━━━━━━\u001b[0m \u001b[32m246.1/246.1 kB\u001b[0m \u001b[31m8.2 MB/s\u001b[0m eta \u001b[36m0:00:00\u001b[0m\n",
      "\u001b[?25hRequirement already satisfied: ipykernel>=4.5.1 in /home/ec2-user/anaconda3/envs/amazonei_pytorch_latest_p37/lib/python3.7/site-packages (from ipywidgets<8.0.0->geemap->-r requirements.txt (line 2)) (6.16.2)\n",
      "Requirement already satisfied: ipython-genutils~=0.2.0 in /home/ec2-user/anaconda3/envs/amazonei_pytorch_latest_p37/lib/python3.7/site-packages (from ipywidgets<8.0.0->geemap->-r requirements.txt (line 2)) (0.2.0)\n",
      "Requirement already satisfied: MarkupSafe>=2.0 in /home/ec2-user/anaconda3/envs/amazonei_pytorch_latest_p37/lib/python3.7/site-packages (from jinja2->streamlit_folium->-r requirements.txt (line 3)) (2.1.1)\n",
      "Requirement already satisfied: pyparsing!=3.0.5,>=2.0.2 in /home/ec2-user/anaconda3/envs/amazonei_pytorch_latest_p37/lib/python3.7/site-packages (from packaging>=14.1->streamlit->-r requirements.txt (line 1)) (3.0.9)\n",
      "Requirement already satisfied: pytz>=2017.3 in /home/ec2-user/anaconda3/envs/amazonei_pytorch_latest_p37/lib/python3.7/site-packages (from pandas<2,>=0.25->streamlit->-r requirements.txt (line 1)) (2022.7)\n",
      "Requirement already satisfied: pyasn1<0.6.0,>=0.4.6 in /home/ec2-user/anaconda3/envs/amazonei_pytorch_latest_p37/lib/python3.7/site-packages (from pyasn1-modules>=0.2.1->google-auth->-r requirements.txt (line 4)) (0.4.8)\n",
      "Requirement already satisfied: certifi>=2017.4.17 in /home/ec2-user/anaconda3/envs/amazonei_pytorch_latest_p37/lib/python3.7/site-packages (from requests>=2.4->streamlit->-r requirements.txt (line 1)) (2022.12.7)\n",
      "Requirement already satisfied: urllib3<1.27,>=1.21.1 in /home/ec2-user/anaconda3/envs/amazonei_pytorch_latest_p37/lib/python3.7/site-packages (from requests>=2.4->streamlit->-r requirements.txt (line 1)) (1.26.8)\n",
      "Requirement already satisfied: idna<4,>=2.5 in /home/ec2-user/anaconda3/envs/amazonei_pytorch_latest_p37/lib/python3.7/site-packages (from requests>=2.4->streamlit->-r requirements.txt (line 1)) (3.4)\n",
      "Requirement already satisfied: charset-normalizer<3,>=2 in /home/ec2-user/anaconda3/envs/amazonei_pytorch_latest_p37/lib/python3.7/site-packages (from requests>=2.4->streamlit->-r requirements.txt (line 1)) (2.1.1)\n",
      "Collecting markdown-it-py<3.0.0,>=2.2.0\n",
      "  Downloading markdown_it_py-2.2.0-py3-none-any.whl (84 kB)\n",
      "\u001b[2K     \u001b[90m━━━━━━━━━━━━━━━━━━━━━━━━━━━━━━━━━━━━━━━━\u001b[0m \u001b[32m84.5/84.5 kB\u001b[0m \u001b[31m16.4 MB/s\u001b[0m eta \u001b[36m0:00:00\u001b[0m\n",
      "\u001b[?25hRequirement already satisfied: pygments<3.0.0,>=2.13.0 in /home/ec2-user/anaconda3/envs/amazonei_pytorch_latest_p37/lib/python3.7/site-packages (from rich>=10.11.0->streamlit->-r requirements.txt (line 1)) (2.14.0)\n",
      "Requirement already satisfied: plotly>=5.2.2 in /home/ec2-user/anaconda3/envs/amazonei_pytorch_latest_p37/lib/python3.7/site-packages (from sankee>=0.1.0->geemap->-r requirements.txt (line 2)) (5.11.0)\n",
      "Collecting backports.zoneinfo\n",
      "  Downloading backports.zoneinfo-0.2.1-cp37-cp37m-manylinux1_x86_64.whl (70 kB)\n",
      "\u001b[2K     \u001b[90m━━━━━━━━━━━━━━━━━━━━━━━━━━━━━━━━━━━━━━━━\u001b[0m \u001b[32m70.7/70.7 kB\u001b[0m \u001b[31m20.1 MB/s\u001b[0m eta \u001b[36m0:00:00\u001b[0m\n",
      "\u001b[?25hCollecting pytz-deprecation-shim\n",
      "  Downloading pytz_deprecation_shim-0.1.0.post0-py2.py3-none-any.whl (15 kB)\n",
      "Collecting whitebox\n",
      "  Downloading whitebox-2.3.1-py2.py3-none-any.whl (72 kB)\n",
      "\u001b[2K     \u001b[90m━━━━━━━━━━━━━━━━━━━━━━━━━━━━━━━━━━━━━━━━\u001b[0m \u001b[32m72.1/72.1 kB\u001b[0m \u001b[31m16.3 MB/s\u001b[0m eta \u001b[36m0:00:00\u001b[0m\n",
      "\u001b[?25hRequirement already satisfied: future in /home/ec2-user/anaconda3/envs/amazonei_pytorch_latest_p37/lib/python3.7/site-packages (from ffmpeg-python->geemap->-r requirements.txt (line 2)) (0.18.2)\n",
      "Requirement already satisfied: tqdm in /home/ec2-user/anaconda3/envs/amazonei_pytorch_latest_p37/lib/python3.7/site-packages (from gdown->geemap->-r requirements.txt (line 2)) (4.64.1)\n",
      "Requirement already satisfied: filelock in /home/ec2-user/anaconda3/envs/amazonei_pytorch_latest_p37/lib/python3.7/site-packages (from gdown->geemap->-r requirements.txt (line 2)) (3.9.0)\n",
      "Collecting ratelim\n",
      "  Downloading ratelim-0.1.6-py2.py3-none-any.whl (4.0 kB)\n",
      "Requirement already satisfied: fonttools>=4.22.0 in /home/ec2-user/anaconda3/envs/amazonei_pytorch_latest_p37/lib/python3.7/site-packages (from matplotlib->geemap->-r requirements.txt (line 2)) (4.38.0)\n",
      "Requirement already satisfied: cycler>=0.10 in /home/ec2-user/anaconda3/envs/amazonei_pytorch_latest_p37/lib/python3.7/site-packages (from matplotlib->geemap->-r requirements.txt (line 2)) (0.11.0)\n",
      "Requirement already satisfied: kiwisolver>=1.0.1 in /home/ec2-user/anaconda3/envs/amazonei_pytorch_latest_p37/lib/python3.7/site-packages (from matplotlib->geemap->-r requirements.txt (line 2)) (1.4.4)\n",
      "Requirement already satisfied: soupsieve>1.2 in /home/ec2-user/anaconda3/envs/amazonei_pytorch_latest_p37/lib/python3.7/site-packages (from beautifulsoup4>=4.9.0->geeadd>=0.5.1->geemap->-r requirements.txt (line 2)) (2.3.2.post1)\n",
      "Collecting smmap<6,>=3.0.1\n",
      "  Using cached smmap-5.0.0-py3-none-any.whl (24 kB)\n",
      "Collecting uritemplate<5,>=3.0.1\n",
      "  Downloading uritemplate-4.1.1-py2.py3-none-any.whl (10 kB)\n",
      "Collecting google-api-core!=2.0.*,!=2.1.*,!=2.2.*,!=2.3.0,<3.0.0dev,>=1.31.5\n",
      "  Downloading google_api_core-2.11.0-py3-none-any.whl (120 kB)\n",
      "\u001b[2K     \u001b[90m━━━━━━━━━━━━━━━━━━━━━━━━━━━━━━━━━━━━━━\u001b[0m \u001b[32m120.3/120.3 kB\u001b[0m \u001b[31m34.3 MB/s\u001b[0m eta \u001b[36m0:00:00\u001b[0m\n",
      "\u001b[?25hRequirement already satisfied: pyzmq>=17 in /home/ec2-user/anaconda3/envs/amazonei_pytorch_latest_p37/lib/python3.7/site-packages (from ipykernel>=4.5.1->ipywidgets<8.0.0->geemap->-r requirements.txt (line 2)) (24.0.1)\n",
      "Requirement already satisfied: matplotlib-inline>=0.1 in /home/ec2-user/anaconda3/envs/amazonei_pytorch_latest_p37/lib/python3.7/site-packages (from ipykernel>=4.5.1->ipywidgets<8.0.0->geemap->-r requirements.txt (line 2)) (0.1.6)\n",
      "Requirement already satisfied: psutil in /home/ec2-user/anaconda3/envs/amazonei_pytorch_latest_p37/lib/python3.7/site-packages (from ipykernel>=4.5.1->ipywidgets<8.0.0->geemap->-r requirements.txt (line 2)) (5.9.3)\n",
      "Requirement already satisfied: jupyter-client>=6.1.12 in /home/ec2-user/anaconda3/envs/amazonei_pytorch_latest_p37/lib/python3.7/site-packages (from ipykernel>=4.5.1->ipywidgets<8.0.0->geemap->-r requirements.txt (line 2)) (7.4.8)\n",
      "Requirement already satisfied: debugpy>=1.0 in /home/ec2-user/anaconda3/envs/amazonei_pytorch_latest_p37/lib/python3.7/site-packages (from ipykernel>=4.5.1->ipywidgets<8.0.0->geemap->-r requirements.txt (line 2)) (1.6.3)\n",
      "Requirement already satisfied: nest-asyncio in /home/ec2-user/anaconda3/envs/amazonei_pytorch_latest_p37/lib/python3.7/site-packages (from ipykernel>=4.5.1->ipywidgets<8.0.0->geemap->-r requirements.txt (line 2)) (1.5.6)\n",
      "Requirement already satisfied: pexpect>4.3 in /home/ec2-user/anaconda3/envs/amazonei_pytorch_latest_p37/lib/python3.7/site-packages (from ipython>=4.0.0->ipywidgets<8.0.0->geemap->-r requirements.txt (line 2)) (4.8.0)\n",
      "Requirement already satisfied: jedi>=0.16 in /home/ec2-user/anaconda3/envs/amazonei_pytorch_latest_p37/lib/python3.7/site-packages (from ipython>=4.0.0->ipywidgets<8.0.0->geemap->-r requirements.txt (line 2)) (0.18.2)\n",
      "Requirement already satisfied: setuptools>=18.5 in /home/ec2-user/anaconda3/envs/amazonei_pytorch_latest_p37/lib/python3.7/site-packages (from ipython>=4.0.0->ipywidgets<8.0.0->geemap->-r requirements.txt (line 2)) (65.6.3)\n",
      "Requirement already satisfied: pickleshare in /home/ec2-user/anaconda3/envs/amazonei_pytorch_latest_p37/lib/python3.7/site-packages (from ipython>=4.0.0->ipywidgets<8.0.0->geemap->-r requirements.txt (line 2)) (0.7.5)\n",
      "Requirement already satisfied: backcall in /home/ec2-user/anaconda3/envs/amazonei_pytorch_latest_p37/lib/python3.7/site-packages (from ipython>=4.0.0->ipywidgets<8.0.0->geemap->-r requirements.txt (line 2)) (0.2.0)\n",
      "Requirement already satisfied: prompt-toolkit!=3.0.0,!=3.0.1,<3.1.0,>=2.0.0 in /home/ec2-user/anaconda3/envs/amazonei_pytorch_latest_p37/lib/python3.7/site-packages (from ipython>=4.0.0->ipywidgets<8.0.0->geemap->-r requirements.txt (line 2)) (3.0.36)\n",
      "Requirement already satisfied: pyrsistent>=0.14.0 in /home/ec2-user/anaconda3/envs/amazonei_pytorch_latest_p37/lib/python3.7/site-packages (from jsonschema>=3.0->altair<5,>=3.2.0->streamlit->-r requirements.txt (line 1)) (0.18.1)\n",
      "Requirement already satisfied: attrs>=17.4.0 in /home/ec2-user/anaconda3/envs/amazonei_pytorch_latest_p37/lib/python3.7/site-packages (from jsonschema>=3.0->altair<5,>=3.2.0->streamlit->-r requirements.txt (line 1)) (22.2.0)\n",
      "Collecting mdurl~=0.1\n",
      "  Downloading mdurl-0.1.2-py3-none-any.whl (10.0 kB)\n",
      "Requirement already satisfied: tenacity>=6.2.0 in /home/ec2-user/anaconda3/envs/amazonei_pytorch_latest_p37/lib/python3.7/site-packages (from plotly>=5.2.2->sankee>=0.1.0->geemap->-r requirements.txt (line 2)) (8.1.0)\n",
      "Requirement already satisfied: notebook>=4.4.1 in /home/ec2-user/anaconda3/envs/amazonei_pytorch_latest_p37/lib/python3.7/site-packages (from widgetsnbextension~=3.6.4->ipywidgets<8.0.0->geemap->-r requirements.txt (line 2)) (6.5.2)\n",
      "Collecting google-cloud-core<3.0dev,>=2.3.0\n",
      "  Downloading google_cloud_core-2.3.2-py2.py3-none-any.whl (29 kB)\n",
      "Collecting google-resumable-media>=2.3.2\n",
      "  Downloading google_resumable_media-2.4.1-py2.py3-none-any.whl (77 kB)\n",
      "\u001b[2K     \u001b[90m━━━━━━━━━━━━━━━━━━━━━━━━━━━━━━━━━━━━━━━━\u001b[0m \u001b[32m77.7/77.7 kB\u001b[0m \u001b[31m23.3 MB/s\u001b[0m eta \u001b[36m0:00:00\u001b[0m\n",
      "\u001b[?25hCollecting tzdata\n",
      "  Using cached tzdata-2023.3-py2.py3-none-any.whl (341 kB)\n",
      "Requirement already satisfied: PySocks!=1.5.7,>=1.5.6 in /home/ec2-user/anaconda3/envs/amazonei_pytorch_latest_p37/lib/python3.7/site-packages (from requests>=2.4->streamlit->-r requirements.txt (line 1)) (1.7.1)\n",
      "Collecting googleapis-common-protos<2.0dev,>=1.56.2\n",
      "  Downloading googleapis_common_protos-1.59.0-py2.py3-none-any.whl (223 kB)\n",
      "\u001b[2K     \u001b[90m━━━━━━━━━━━━━━━━━━━━━━━━━━━━━━━━━━━━━━\u001b[0m \u001b[32m223.6/223.6 kB\u001b[0m \u001b[31m47.9 MB/s\u001b[0m eta \u001b[36m0:00:00\u001b[0m\n",
      "\u001b[?25hCollecting google-crc32c<2.0dev,>=1.0\n",
      "  Downloading google_crc32c-1.5.0-cp37-cp37m-manylinux_2_17_x86_64.manylinux2014_x86_64.whl (32 kB)\n",
      "Requirement already satisfied: parso<0.9.0,>=0.8.0 in /home/ec2-user/anaconda3/envs/amazonei_pytorch_latest_p37/lib/python3.7/site-packages (from jedi>=0.16->ipython>=4.0.0->ipywidgets<8.0.0->geemap->-r requirements.txt (line 2)) (0.8.3)\n",
      "Requirement already satisfied: jupyter-core>=4.9.2 in /home/ec2-user/anaconda3/envs/amazonei_pytorch_latest_p37/lib/python3.7/site-packages (from jupyter-client>=6.1.12->ipykernel>=4.5.1->ipywidgets<8.0.0->geemap->-r requirements.txt (line 2)) (4.11.1)\n",
      "Requirement already satisfied: argon2-cffi in /home/ec2-user/anaconda3/envs/amazonei_pytorch_latest_p37/lib/python3.7/site-packages (from notebook>=4.4.1->widgetsnbextension~=3.6.4->ipywidgets<8.0.0->geemap->-r requirements.txt (line 2)) (21.3.0)\n",
      "Requirement already satisfied: terminado>=0.8.3 in /home/ec2-user/anaconda3/envs/amazonei_pytorch_latest_p37/lib/python3.7/site-packages (from notebook>=4.4.1->widgetsnbextension~=3.6.4->ipywidgets<8.0.0->geemap->-r requirements.txt (line 2)) (0.17.1)\n",
      "Requirement already satisfied: prometheus-client in /home/ec2-user/anaconda3/envs/amazonei_pytorch_latest_p37/lib/python3.7/site-packages (from notebook>=4.4.1->widgetsnbextension~=3.6.4->ipywidgets<8.0.0->geemap->-r requirements.txt (line 2)) (0.15.0)\n",
      "Requirement already satisfied: Send2Trash>=1.8.0 in /home/ec2-user/anaconda3/envs/amazonei_pytorch_latest_p37/lib/python3.7/site-packages (from notebook>=4.4.1->widgetsnbextension~=3.6.4->ipywidgets<8.0.0->geemap->-r requirements.txt (line 2)) (1.8.0)\n",
      "Requirement already satisfied: nbconvert>=5 in /home/ec2-user/anaconda3/envs/amazonei_pytorch_latest_p37/lib/python3.7/site-packages (from notebook>=4.4.1->widgetsnbextension~=3.6.4->ipywidgets<8.0.0->geemap->-r requirements.txt (line 2)) (7.2.7)\n",
      "Requirement already satisfied: nbclassic>=0.4.7 in /home/ec2-user/anaconda3/envs/amazonei_pytorch_latest_p37/lib/python3.7/site-packages (from notebook>=4.4.1->widgetsnbextension~=3.6.4->ipywidgets<8.0.0->geemap->-r requirements.txt (line 2)) (0.4.8)\n",
      "Requirement already satisfied: nbformat in /home/ec2-user/anaconda3/envs/amazonei_pytorch_latest_p37/lib/python3.7/site-packages (from notebook>=4.4.1->widgetsnbextension~=3.6.4->ipywidgets<8.0.0->geemap->-r requirements.txt (line 2)) (5.7.1)\n",
      "Requirement already satisfied: ptyprocess>=0.5 in /home/ec2-user/anaconda3/envs/amazonei_pytorch_latest_p37/lib/python3.7/site-packages (from pexpect>4.3->ipython>=4.0.0->ipywidgets<8.0.0->geemap->-r requirements.txt (line 2)) (0.7.0)\n",
      "Requirement already satisfied: wcwidth in /home/ec2-user/anaconda3/envs/amazonei_pytorch_latest_p37/lib/python3.7/site-packages (from prompt-toolkit!=3.0.0,!=3.0.1,<3.1.0,>=2.0.0->ipython>=4.0.0->ipywidgets<8.0.0->geemap->-r requirements.txt (line 2)) (0.2.5)\n",
      "Requirement already satisfied: notebook-shim>=0.1.0 in /home/ec2-user/anaconda3/envs/amazonei_pytorch_latest_p37/lib/python3.7/site-packages (from nbclassic>=0.4.7->notebook>=4.4.1->widgetsnbextension~=3.6.4->ipywidgets<8.0.0->geemap->-r requirements.txt (line 2)) (0.2.2)\n",
      "Requirement already satisfied: jupyter-server>=1.8 in /home/ec2-user/anaconda3/envs/amazonei_pytorch_latest_p37/lib/python3.7/site-packages (from nbclassic>=0.4.7->notebook>=4.4.1->widgetsnbextension~=3.6.4->ipywidgets<8.0.0->geemap->-r requirements.txt (line 2)) (1.23.4)\n",
      "Requirement already satisfied: defusedxml in /home/ec2-user/anaconda3/envs/amazonei_pytorch_latest_p37/lib/python3.7/site-packages (from nbconvert>=5->notebook>=4.4.1->widgetsnbextension~=3.6.4->ipywidgets<8.0.0->geemap->-r requirements.txt (line 2)) (0.7.1)\n",
      "Requirement already satisfied: jupyterlab-pygments in /home/ec2-user/anaconda3/envs/amazonei_pytorch_latest_p37/lib/python3.7/site-packages (from nbconvert>=5->notebook>=4.4.1->widgetsnbextension~=3.6.4->ipywidgets<8.0.0->geemap->-r requirements.txt (line 2)) (0.2.2)\n",
      "Requirement already satisfied: nbclient>=0.5.0 in /home/ec2-user/anaconda3/envs/amazonei_pytorch_latest_p37/lib/python3.7/site-packages (from nbconvert>=5->notebook>=4.4.1->widgetsnbextension~=3.6.4->ipywidgets<8.0.0->geemap->-r requirements.txt (line 2)) (0.7.0)\n",
      "Requirement already satisfied: tinycss2 in /home/ec2-user/anaconda3/envs/amazonei_pytorch_latest_p37/lib/python3.7/site-packages (from nbconvert>=5->notebook>=4.4.1->widgetsnbextension~=3.6.4->ipywidgets<8.0.0->geemap->-r requirements.txt (line 2)) (1.2.1)\n",
      "Requirement already satisfied: bleach in /home/ec2-user/anaconda3/envs/amazonei_pytorch_latest_p37/lib/python3.7/site-packages (from nbconvert>=5->notebook>=4.4.1->widgetsnbextension~=3.6.4->ipywidgets<8.0.0->geemap->-r requirements.txt (line 2)) (5.0.1)\n",
      "Requirement already satisfied: pandocfilters>=1.4.1 in /home/ec2-user/anaconda3/envs/amazonei_pytorch_latest_p37/lib/python3.7/site-packages (from nbconvert>=5->notebook>=4.4.1->widgetsnbextension~=3.6.4->ipywidgets<8.0.0->geemap->-r requirements.txt (line 2)) (1.5.0)\n",
      "Requirement already satisfied: mistune<3,>=2.0.3 in /home/ec2-user/anaconda3/envs/amazonei_pytorch_latest_p37/lib/python3.7/site-packages (from nbconvert>=5->notebook>=4.4.1->widgetsnbextension~=3.6.4->ipywidgets<8.0.0->geemap->-r requirements.txt (line 2)) (2.0.4)\n",
      "Requirement already satisfied: fastjsonschema in /home/ec2-user/anaconda3/envs/amazonei_pytorch_latest_p37/lib/python3.7/site-packages (from nbformat->notebook>=4.4.1->widgetsnbextension~=3.6.4->ipywidgets<8.0.0->geemap->-r requirements.txt (line 2)) (2.16.2)\n",
      "Requirement already satisfied: argon2-cffi-bindings in /home/ec2-user/anaconda3/envs/amazonei_pytorch_latest_p37/lib/python3.7/site-packages (from argon2-cffi->notebook>=4.4.1->widgetsnbextension~=3.6.4->ipywidgets<8.0.0->geemap->-r requirements.txt (line 2)) (21.2.0)\n",
      "Requirement already satisfied: anyio<4,>=3.1.0 in /home/ec2-user/anaconda3/envs/amazonei_pytorch_latest_p37/lib/python3.7/site-packages (from jupyter-server>=1.8->nbclassic>=0.4.7->notebook>=4.4.1->widgetsnbextension~=3.6.4->ipywidgets<8.0.0->geemap->-r requirements.txt (line 2)) (3.6.2)\n",
      "Requirement already satisfied: websocket-client in /home/ec2-user/anaconda3/envs/amazonei_pytorch_latest_p37/lib/python3.7/site-packages (from jupyter-server>=1.8->nbclassic>=0.4.7->notebook>=4.4.1->widgetsnbextension~=3.6.4->ipywidgets<8.0.0->geemap->-r requirements.txt (line 2)) (0.59.0)\n",
      "Requirement already satisfied: cffi>=1.0.1 in /home/ec2-user/anaconda3/envs/amazonei_pytorch_latest_p37/lib/python3.7/site-packages (from argon2-cffi-bindings->argon2-cffi->notebook>=4.4.1->widgetsnbextension~=3.6.4->ipywidgets<8.0.0->geemap->-r requirements.txt (line 2)) (1.14.6)\n",
      "Requirement already satisfied: webencodings in /home/ec2-user/anaconda3/envs/amazonei_pytorch_latest_p37/lib/python3.7/site-packages (from bleach->nbconvert>=5->notebook>=4.4.1->widgetsnbextension~=3.6.4->ipywidgets<8.0.0->geemap->-r requirements.txt (line 2)) (0.5.1)\n",
      "Requirement already satisfied: sniffio>=1.1 in /home/ec2-user/anaconda3/envs/amazonei_pytorch_latest_p37/lib/python3.7/site-packages (from anyio<4,>=3.1.0->jupyter-server>=1.8->nbclassic>=0.4.7->notebook>=4.4.1->widgetsnbextension~=3.6.4->ipywidgets<8.0.0->geemap->-r requirements.txt (line 2)) (1.3.0)\n",
      "Requirement already satisfied: pycparser in /home/ec2-user/anaconda3/envs/amazonei_pytorch_latest_p37/lib/python3.7/site-packages (from cffi>=1.0.1->argon2-cffi-bindings->argon2-cffi->notebook>=4.4.1->widgetsnbextension~=3.6.4->ipywidgets<8.0.0->geemap->-r requirements.txt (line 2)) (2.21)\n",
      "Building wheels for collected packages: earthengine-api, ee-extra, sankee, validators, pycrs, pyperclip\n",
      "  Building wheel for earthengine-api (setup.py) ... \u001b[?25ldone\n",
      "\u001b[?25h  Created wheel for earthengine-api: filename=earthengine_api-0.1.350-py3-none-any.whl size=275412 sha256=5841bc8cd38f3072dc96232648d721431387f30e855d8af43eeb6c894274b9ca\n",
      "  Stored in directory: /home/ec2-user/.cache/pip/wheels/b4/25/46/96d2b51b1d9a369b222624a32926baac3b3ab7b83cd665d1ea\n",
      "  Building wheel for ee-extra (setup.py) ... \u001b[?25ldone\n",
      "\u001b[?25h  Created wheel for ee-extra: filename=ee_extra-0.0.15-py3-none-any.whl size=236756 sha256=a260f1fdc3adf9edbf6b801d31bb8b824b2feb94e87f52bfd191ec528fb67b3a\n",
      "  Stored in directory: /home/ec2-user/.cache/pip/wheels/b9/d3/42/689c65d305a0022221afa1363aebf9139b17523bd46acc8866\n",
      "  Building wheel for sankee (setup.py) ... \u001b[?25ldone\n",
      "\u001b[?25h  Created wheel for sankee: filename=sankee-0.2.3-py3-none-any.whl size=30489 sha256=cef8c0d836a6d05024158ca5dbc63c9a5f478a9d6ca31faa65485c126cddbc36\n",
      "  Stored in directory: /home/ec2-user/.cache/pip/wheels/f1/f1/e4/9a9d57d3acf7b2211618a2d4cdb23123fb2466d31beb696a02\n",
      "  Building wheel for validators (setup.py) ... \u001b[?25ldone\n",
      "\u001b[?25h  Created wheel for validators: filename=validators-0.20.0-py3-none-any.whl size=19581 sha256=b10991deb1a8e784791ed9b38ec9a215f3d3e9418ea79df632776b4d7e0b1497\n",
      "  Stored in directory: /home/ec2-user/.cache/pip/wheels/3d/7c/f1/f87f51d07a2513aa0fb128d5eb504da1fcef9c87475d9eef64\n",
      "  Building wheel for pycrs (setup.py) ... \u001b[?25ldone\n",
      "\u001b[?25h  Created wheel for pycrs: filename=PyCRS-1.0.2-py3-none-any.whl size=32687 sha256=a3a1b6f6b096cad8b529b071034528bc1ffbab6f1ace0adfe2b9073a5aadd417\n",
      "  Stored in directory: /home/ec2-user/.cache/pip/wheels/ed/ba/aa/f717aa76af218003b6395d51d0e05748b3d35b0a4e8f264971\n",
      "  Building wheel for pyperclip (setup.py) ... \u001b[?25ldone\n",
      "\u001b[?25h  Created wheel for pyperclip: filename=pyperclip-1.8.2-py3-none-any.whl size=11124 sha256=6ee3c600b57d3e64ce841ad33d927e904ad335e9b11d8f2b1eb54abbe6e46f15\n",
      "  Stored in directory: /home/ec2-user/.cache/pip/wheels/36/86/43/c32981b55b0d0a78b9762fd4fa7d6de0da0a46fd035cedfccb\n",
      "Successfully built earthengine-api ee-extra sankee validators pycrs pyperclip\n",
      "Installing collected packages: pyperclip, pycrs, logzero, colour, xyzservices, watchdog, validators, uritemplate, tzdata, traittypes, smmap, scooby, ratelim, python-box, pyshp, pympler, pyasn1-modules, pyarrow, py, mdurl, jupyterlab-widgets, httplib2, googleapis-common-protos, google-crc32c, geojson, geographiclib, ffmpeg-python, cachetools, blinker, backports.zoneinfo, retry, pytz-deprecation-shim, pydeck, markdown-it-py, google-resumable-media, google-auth, gitdb, geopy, branca, whitebox, tzlocal, rich, google-auth-httplib2, google-api-core, gitpython, geocoder, gdown, folium, altair, streamlit, google-cloud-core, google-api-python-client, streamlit_folium, google-cloud-storage, earthengine-api, geeadd, eerepr, ee-extra, widgetsnbextension, ipywidgets, sankee, ipytree, ipyleaflet, ipyfilechooser, ipyevents, bqplot, whiteboxgui, geemap\n",
      "  Attempting uninstall: jupyterlab-widgets\n",
      "    Found existing installation: jupyterlab-widgets 3.0.5\n",
      "    Uninstalling jupyterlab-widgets-3.0.5:\n",
      "      Successfully uninstalled jupyterlab-widgets-3.0.5\n",
      "  Attempting uninstall: widgetsnbextension\n",
      "    Found existing installation: widgetsnbextension 4.0.5\n",
      "    Uninstalling widgetsnbextension-4.0.5:\n",
      "      Successfully uninstalled widgetsnbextension-4.0.5\n",
      "  Attempting uninstall: ipywidgets\n",
      "    Found existing installation: ipywidgets 8.0.4\n",
      "    Uninstalling ipywidgets-8.0.4:\n",
      "      Successfully uninstalled ipywidgets-8.0.4\n",
      "Successfully installed altair-4.2.2 backports.zoneinfo-0.2.1 blinker-1.6.2 bqplot-0.12.39 branca-0.6.0 cachetools-5.3.0 colour-0.1.5 earthengine-api-0.1.350 ee-extra-0.0.15 eerepr-0.0.4 ffmpeg-python-0.2.0 folium-0.14.0 gdown-4.7.1 geeadd-0.5.6 geemap-0.20.4 geocoder-1.38.1 geographiclib-2.0 geojson-3.0.1 geopy-2.3.0 gitdb-4.0.10 gitpython-3.1.31 google-api-core-2.11.0 google-api-python-client-2.86.0 google-auth-2.17.3 google-auth-httplib2-0.1.0 google-cloud-core-2.3.2 google-cloud-storage-2.8.0 google-crc32c-1.5.0 google-resumable-media-2.4.1 googleapis-common-protos-1.59.0 httplib2-0.22.0 ipyevents-2.0.1 ipyfilechooser-0.6.0 ipyleaflet-0.17.2 ipytree-0.2.2 ipywidgets-7.7.5 jupyterlab-widgets-1.1.4 logzero-1.7.0 markdown-it-py-2.2.0 mdurl-0.1.2 py-1.11.0 pyarrow-11.0.0 pyasn1-modules-0.3.0 pycrs-1.0.2 pydeck-0.8.1b0 pympler-1.0.1 pyperclip-1.8.2 pyshp-2.3.1 python-box-7.0.1 pytz-deprecation-shim-0.1.0.post0 ratelim-0.1.6 retry-0.9.2 rich-13.3.4 sankee-0.2.3 scooby-0.7.1 smmap-5.0.0 streamlit-1.21.0 streamlit_folium-0.11.1 traittypes-0.2.1 tzdata-2023.3 tzlocal-4.3 uritemplate-4.1.1 validators-0.20.0 watchdog-3.0.0 whitebox-2.3.1 whiteboxgui-2.3.0 widgetsnbextension-3.6.4 xyzservices-2023.2.0\n"
     ]
    }
   ],
   "source": [
    "!pip install -r requirements.txt"
   ]
  },
  {
   "cell_type": "code",
   "execution_count": 2,
   "metadata": {
    "tags": []
   },
   "outputs": [
    {
     "data": {
      "text/html": [
       "<p>To authorize access needed by Earth Engine, open the following\n",
       "        URL in a web browser and follow the instructions:</p>\n",
       "        <p><a href=https://code.earthengine.google.com/client-auth?scopes=https%3A//www.googleapis.com/auth/earthengine%20https%3A//www.googleapis.com/auth/devstorage.full_control&request_id=blcq6WzIh7-2v7Msjhhu8UiOvyN0TalFOtmpABe183M&tc=5iBwLqrLtpdjOEtwuM9_T1s0mTVoaL5uYxrOICdzzM0&cc=RYzs7skeCRhFMSshTBJfxzxhP42s3fyLdiRaQclGT1Y>https://code.earthengine.google.com/client-auth?scopes=https%3A//www.googleapis.com/auth/earthengine%20https%3A//www.googleapis.com/auth/devstorage.full_control&request_id=blcq6WzIh7-2v7Msjhhu8UiOvyN0TalFOtmpABe183M&tc=5iBwLqrLtpdjOEtwuM9_T1s0mTVoaL5uYxrOICdzzM0&cc=RYzs7skeCRhFMSshTBJfxzxhP42s3fyLdiRaQclGT1Y</a></p>\n",
       "        <p>The authorization workflow will generate a code, which you should paste in the box below.</p>\n",
       "        "
      ],
      "text/plain": [
       "<IPython.core.display.HTML object>"
      ]
     },
     "metadata": {},
     "output_type": "display_data"
    },
    {
     "name": "stdin",
     "output_type": "stream",
     "text": [
      "Enter verification code:  4/1AVHEtk6qA5lnHDprziP4EPOZSPyvlhDF17LRoygfXv-hzU0HH3xYLb6uUcU\n"
     ]
    },
    {
     "name": "stdout",
     "output_type": "stream",
     "text": [
      "\n",
      "Successfully saved authorization token.\n"
     ]
    }
   ],
   "source": [
    "import ee\n",
    "ee.Authenticate()"
   ]
  },
  {
   "cell_type": "code",
   "execution_count": null,
   "metadata": {
    "tags": []
   },
   "outputs": [],
   "source": []
  },
  {
   "cell_type": "code",
   "execution_count": 3,
   "metadata": {
    "tags": []
   },
   "outputs": [
    {
     "name": "stderr",
     "output_type": "stream",
     "text": [
      "2023-04-21 14:02:33.037 INFO    matplotlib.font_manager: generated new fontManager\n"
     ]
    }
   ],
   "source": [
    "from utils import *\n",
    "\n"
   ]
  },
  {
   "cell_type": "code",
   "execution_count": 4,
   "metadata": {
    "tags": []
   },
   "outputs": [],
   "source": [
    "\n",
    "\n",
    "ee.Initialize()"
   ]
  },
  {
   "cell_type": "code",
   "execution_count": 5,
   "metadata": {
    "tags": []
   },
   "outputs": [],
   "source": [
    "def getFeatureRaster(feature, exclusionRaster, targetRaster):\n",
    "    excls = exclusionRaster.clip(feature)\n",
    "    targ = targetRaster.clip(feature)\n",
    "\n",
    "    return targ.multiply(excls)"
   ]
  },
  {
   "cell_type": "code",
   "execution_count": 6,
   "metadata": {
    "tags": []
   },
   "outputs": [],
   "source": [
    "def reduceToArea(image):\n",
    "    areaDict = image.pixelArea().reduceRegion(ee.Reducer.sum(), scale=140, geometry=image.geometry())\n",
    "    area = ee.Number(areaDict.get('area')).divide(1e6)\n",
    "    name = image.get(\"name\")\n",
    "    newFeat = ee.Feature(image.geometry())\n",
    "    newFeat = newFeat.set({'area':area, 'name':name})\n",
    "    #newFeat = ee.Feature.setGeometry()\n",
    "    return newFeat"
   ]
  },
  {
   "cell_type": "code",
   "execution_count": null,
   "metadata": {
    "tags": []
   },
   "outputs": [],
   "source": []
  },
  {
   "cell_type": "code",
   "execution_count": null,
   "metadata": {
    "tags": []
   },
   "outputs": [],
   "source": [
    "\n"
   ]
  },
  {
   "cell_type": "code",
   "execution_count": 10,
   "metadata": {
    "tags": []
   },
   "outputs": [
    {
     "name": "stdout",
     "output_type": "stream",
     "text": [
      "['Roads', 'Railway', 'Protected Areas', 'Woodlands', 'Cycle Paths Wind', 'Surface Water', 'England Cultural Sites', 'Scotland Cultural Sites', 'Parks and Green Space', 'Functional Sites', 'Wind Speed', 'Transmission Lines', 'Built Up Areas', 'Slope', 'Existing Onshore Wind', 'Existing Other Renewable']\n",
      "trying Middlesbrough\n",
      "wind 103709.77446959254\n",
      "solar 253082.3505265778\n",
      "Middlesbrough wind power 103709.77446959254 solar power 253082.3505265778\n",
      "0 of 362 done\n",
      "trying Redcar and Cleveland\n",
      "wind 6930547.804970894\n",
      "solar 17922826.64415593\n",
      "Redcar and Cleveland wind power 6930547.804970894 solar power 17922826.64415593\n",
      "1 of 362 done\n",
      "trying Stockton-on-Tees\n",
      "wind 7097500.851997168\n",
      "solar 16683487.535885805\n",
      "Stockton-on-Tees wind power 7097500.851997168 solar power 16683487.535885805\n",
      "2 of 362 done\n",
      "trying Darlington\n",
      "wind 13682908.681108303\n",
      "solar 24278036.975614667\n",
      "Darlington wind power 13682908.681108303 solar power 24278036.975614667\n",
      "3 of 362 done\n",
      "trying Halton\n",
      "wind 497707.7546453738\n",
      "solar 821709.5681181067\n",
      "Halton wind power 497707.7546453738 solar power 821709.5681181067\n",
      "4 of 362 done\n",
      "trying Warrington\n",
      "wind 2110969.0016256897\n",
      "solar 4576209.666147748\n",
      "Warrington wind power 2110969.0016256897 solar power 4576209.666147748\n",
      "5 of 362 done\n",
      "trying Blackburn with Darwen\n"
     ]
    },
    {
     "ename": "EEException",
     "evalue": "User memory limit exceeded.",
     "output_type": "error",
     "traceback": [
      "\u001b[0;31m---------------------------------------------------------------------------\u001b[0m",
      "\u001b[0;31mHttpError\u001b[0m                                 Traceback (most recent call last)",
      "\u001b[0;32m~/anaconda3/envs/amazonei_pytorch_latest_p37/lib/python3.7/site-packages/ee/data.py\u001b[0m in \u001b[0;36m_execute_cloud_call\u001b[0;34m(call, num_retries)\u001b[0m\n\u001b[1;32m    336\u001b[0m   \u001b[0;32mtry\u001b[0m\u001b[0;34m:\u001b[0m\u001b[0;34m\u001b[0m\u001b[0;34m\u001b[0m\u001b[0m\n\u001b[0;32m--> 337\u001b[0;31m     \u001b[0;32mreturn\u001b[0m \u001b[0mcall\u001b[0m\u001b[0;34m.\u001b[0m\u001b[0mexecute\u001b[0m\u001b[0;34m(\u001b[0m\u001b[0mnum_retries\u001b[0m\u001b[0;34m=\u001b[0m\u001b[0mnum_retries\u001b[0m\u001b[0;34m)\u001b[0m\u001b[0;34m\u001b[0m\u001b[0;34m\u001b[0m\u001b[0m\n\u001b[0m\u001b[1;32m    338\u001b[0m   \u001b[0;32mexcept\u001b[0m \u001b[0mgoogleapiclient\u001b[0m\u001b[0;34m.\u001b[0m\u001b[0merrors\u001b[0m\u001b[0;34m.\u001b[0m\u001b[0mHttpError\u001b[0m \u001b[0;32mas\u001b[0m \u001b[0me\u001b[0m\u001b[0;34m:\u001b[0m\u001b[0;34m\u001b[0m\u001b[0;34m\u001b[0m\u001b[0m\n",
      "\u001b[0;32m~/anaconda3/envs/amazonei_pytorch_latest_p37/lib/python3.7/site-packages/googleapiclient/_helpers.py\u001b[0m in \u001b[0;36mpositional_wrapper\u001b[0;34m(*args, **kwargs)\u001b[0m\n\u001b[1;32m    129\u001b[0m                     \u001b[0mlogger\u001b[0m\u001b[0;34m.\u001b[0m\u001b[0mwarning\u001b[0m\u001b[0;34m(\u001b[0m\u001b[0mmessage\u001b[0m\u001b[0;34m)\u001b[0m\u001b[0;34m\u001b[0m\u001b[0;34m\u001b[0m\u001b[0m\n\u001b[0;32m--> 130\u001b[0;31m             \u001b[0;32mreturn\u001b[0m \u001b[0mwrapped\u001b[0m\u001b[0;34m(\u001b[0m\u001b[0;34m*\u001b[0m\u001b[0margs\u001b[0m\u001b[0;34m,\u001b[0m \u001b[0;34m**\u001b[0m\u001b[0mkwargs\u001b[0m\u001b[0;34m)\u001b[0m\u001b[0;34m\u001b[0m\u001b[0;34m\u001b[0m\u001b[0m\n\u001b[0m\u001b[1;32m    131\u001b[0m \u001b[0;34m\u001b[0m\u001b[0m\n",
      "\u001b[0;32m~/anaconda3/envs/amazonei_pytorch_latest_p37/lib/python3.7/site-packages/googleapiclient/http.py\u001b[0m in \u001b[0;36mexecute\u001b[0;34m(self, http, num_retries)\u001b[0m\n\u001b[1;32m    937\u001b[0m         \u001b[0;32mif\u001b[0m \u001b[0mresp\u001b[0m\u001b[0;34m.\u001b[0m\u001b[0mstatus\u001b[0m \u001b[0;34m>=\u001b[0m \u001b[0;36m300\u001b[0m\u001b[0;34m:\u001b[0m\u001b[0;34m\u001b[0m\u001b[0;34m\u001b[0m\u001b[0m\n\u001b[0;32m--> 938\u001b[0;31m             \u001b[0;32mraise\u001b[0m \u001b[0mHttpError\u001b[0m\u001b[0;34m(\u001b[0m\u001b[0mresp\u001b[0m\u001b[0;34m,\u001b[0m \u001b[0mcontent\u001b[0m\u001b[0;34m,\u001b[0m \u001b[0muri\u001b[0m\u001b[0;34m=\u001b[0m\u001b[0mself\u001b[0m\u001b[0;34m.\u001b[0m\u001b[0muri\u001b[0m\u001b[0;34m)\u001b[0m\u001b[0;34m\u001b[0m\u001b[0;34m\u001b[0m\u001b[0m\n\u001b[0m\u001b[1;32m    939\u001b[0m         \u001b[0;32mreturn\u001b[0m \u001b[0mself\u001b[0m\u001b[0;34m.\u001b[0m\u001b[0mpostproc\u001b[0m\u001b[0;34m(\u001b[0m\u001b[0mresp\u001b[0m\u001b[0;34m,\u001b[0m \u001b[0mcontent\u001b[0m\u001b[0;34m)\u001b[0m\u001b[0;34m\u001b[0m\u001b[0;34m\u001b[0m\u001b[0m\n",
      "\u001b[0;31mHttpError\u001b[0m: <HttpError 400 when requesting https://earthengine.googleapis.com/v1alpha/projects/earthengine-legacy/value:compute?prettyPrint=false&alt=json returned \"User memory limit exceeded.\". Details: \"User memory limit exceeded.\">",
      "\nDuring handling of the above exception, another exception occurred:\n",
      "\u001b[0;31mEEException\u001b[0m                               Traceback (most recent call last)",
      "\u001b[0;32m/tmp/ipykernel_10359/3675987998.py\u001b[0m in \u001b[0;36m<module>\u001b[0;34m\u001b[0m\n\u001b[1;32m     92\u001b[0m             \u001b[0mareaRast\u001b[0m \u001b[0;34m=\u001b[0m \u001b[0mareaRast\u001b[0m\u001b[0;34m.\u001b[0m\u001b[0mmultiply\u001b[0m\u001b[0;34m(\u001b[0m\u001b[0mex\u001b[0m\u001b[0;34m)\u001b[0m\u001b[0;34m\u001b[0m\u001b[0;34m\u001b[0m\u001b[0m\n\u001b[1;32m     93\u001b[0m         \u001b[0mareaRast\u001b[0m \u001b[0;34m=\u001b[0m \u001b[0mminimumMappingUnit\u001b[0m\u001b[0;34m(\u001b[0m\u001b[0mareaRast\u001b[0m\u001b[0;34m,\u001b[0m \u001b[0;36m7\u001b[0m\u001b[0;34m)\u001b[0m\u001b[0;34m\u001b[0m\u001b[0;34m\u001b[0m\u001b[0m\n\u001b[0;32m---> 94\u001b[0;31m         \u001b[0mwindArea\u001b[0m \u001b[0;34m=\u001b[0m \u001b[0mgetTotalArea\u001b[0m\u001b[0;34m(\u001b[0m\u001b[0mactiveGeom\u001b[0m\u001b[0;34m)\u001b[0m\u001b[0;34m.\u001b[0m\u001b[0mgetInfo\u001b[0m\u001b[0;34m(\u001b[0m\u001b[0;34m)\u001b[0m\u001b[0;34m[\u001b[0m\u001b[0;34m'area'\u001b[0m\u001b[0;34m]\u001b[0m\u001b[0;34m\u001b[0m\u001b[0;34m\u001b[0m\u001b[0m\n\u001b[0m\u001b[1;32m     95\u001b[0m         \u001b[0mprint\u001b[0m\u001b[0;34m(\u001b[0m\u001b[0;34m'wind'\u001b[0m\u001b[0;34m,\u001b[0m \u001b[0mwindArea\u001b[0m\u001b[0;34m)\u001b[0m\u001b[0;34m\u001b[0m\u001b[0;34m\u001b[0m\u001b[0m\n\u001b[1;32m     96\u001b[0m \u001b[0;34m\u001b[0m\u001b[0m\n",
      "\u001b[0;32m~/anaconda3/envs/amazonei_pytorch_latest_p37/lib/python3.7/site-packages/ee/computedobject.py\u001b[0m in \u001b[0;36mgetInfo\u001b[0;34m(self)\u001b[0m\n\u001b[1;32m     94\u001b[0m       \u001b[0mThe\u001b[0m \u001b[0mobject\u001b[0m \u001b[0mcan\u001b[0m \u001b[0mevaluate\u001b[0m \u001b[0mto\u001b[0m \u001b[0manything\u001b[0m\u001b[0;34m.\u001b[0m\u001b[0;34m\u001b[0m\u001b[0;34m\u001b[0m\u001b[0m\n\u001b[1;32m     95\u001b[0m     \"\"\"\n\u001b[0;32m---> 96\u001b[0;31m     \u001b[0;32mreturn\u001b[0m \u001b[0mdata\u001b[0m\u001b[0;34m.\u001b[0m\u001b[0mcomputeValue\u001b[0m\u001b[0;34m(\u001b[0m\u001b[0mself\u001b[0m\u001b[0;34m)\u001b[0m\u001b[0;34m\u001b[0m\u001b[0;34m\u001b[0m\u001b[0m\n\u001b[0m\u001b[1;32m     97\u001b[0m \u001b[0;34m\u001b[0m\u001b[0m\n\u001b[1;32m     98\u001b[0m   \u001b[0;32mdef\u001b[0m \u001b[0mencode\u001b[0m\u001b[0;34m(\u001b[0m\u001b[0mself\u001b[0m\u001b[0;34m,\u001b[0m \u001b[0mencoder\u001b[0m\u001b[0;34m)\u001b[0m\u001b[0;34m:\u001b[0m\u001b[0;34m\u001b[0m\u001b[0;34m\u001b[0m\u001b[0m\n",
      "\u001b[0;32m~/anaconda3/envs/amazonei_pytorch_latest_p37/lib/python3.7/site-packages/ee/data.py\u001b[0m in \u001b[0;36mcomputeValue\u001b[0;34m(obj)\u001b[0m\n\u001b[1;32m    918\u001b[0m           \u001b[0mbody\u001b[0m\u001b[0;34m=\u001b[0m\u001b[0mbody\u001b[0m\u001b[0;34m,\u001b[0m\u001b[0;34m\u001b[0m\u001b[0;34m\u001b[0m\u001b[0m\n\u001b[1;32m    919\u001b[0m           \u001b[0mproject\u001b[0m\u001b[0;34m=\u001b[0m\u001b[0m_get_projects_path\u001b[0m\u001b[0;34m(\u001b[0m\u001b[0;34m)\u001b[0m\u001b[0;34m,\u001b[0m\u001b[0;34m\u001b[0m\u001b[0;34m\u001b[0m\u001b[0m\n\u001b[0;32m--> 920\u001b[0;31m           prettyPrint=False))['result']\n\u001b[0m\u001b[1;32m    921\u001b[0m \u001b[0;34m\u001b[0m\u001b[0m\n\u001b[1;32m    922\u001b[0m \u001b[0;34m\u001b[0m\u001b[0m\n",
      "\u001b[0;32m~/anaconda3/envs/amazonei_pytorch_latest_p37/lib/python3.7/site-packages/ee/data.py\u001b[0m in \u001b[0;36m_execute_cloud_call\u001b[0;34m(call, num_retries)\u001b[0m\n\u001b[1;32m    337\u001b[0m     \u001b[0;32mreturn\u001b[0m \u001b[0mcall\u001b[0m\u001b[0;34m.\u001b[0m\u001b[0mexecute\u001b[0m\u001b[0;34m(\u001b[0m\u001b[0mnum_retries\u001b[0m\u001b[0;34m=\u001b[0m\u001b[0mnum_retries\u001b[0m\u001b[0;34m)\u001b[0m\u001b[0;34m\u001b[0m\u001b[0;34m\u001b[0m\u001b[0m\n\u001b[1;32m    338\u001b[0m   \u001b[0;32mexcept\u001b[0m \u001b[0mgoogleapiclient\u001b[0m\u001b[0;34m.\u001b[0m\u001b[0merrors\u001b[0m\u001b[0;34m.\u001b[0m\u001b[0mHttpError\u001b[0m \u001b[0;32mas\u001b[0m \u001b[0me\u001b[0m\u001b[0;34m:\u001b[0m\u001b[0;34m\u001b[0m\u001b[0;34m\u001b[0m\u001b[0m\n\u001b[0;32m--> 339\u001b[0;31m     \u001b[0;32mraise\u001b[0m \u001b[0m_translate_cloud_exception\u001b[0m\u001b[0;34m(\u001b[0m\u001b[0me\u001b[0m\u001b[0;34m)\u001b[0m\u001b[0;34m\u001b[0m\u001b[0;34m\u001b[0m\u001b[0m\n\u001b[0m\u001b[1;32m    340\u001b[0m \u001b[0;34m\u001b[0m\u001b[0m\n\u001b[1;32m    341\u001b[0m \u001b[0;34m\u001b[0m\u001b[0m\n",
      "\u001b[0;31mEEException\u001b[0m: User memory limit exceeded."
     ]
    }
   ],
   "source": [
    "# Scenario 1 - Max Exclusions\n",
    "\n",
    "\n",
    "common = getExclusions()\n",
    "wind = getExclusions(\"wind\")\n",
    "solar = getExclusions(\"solar\")\n",
    "\n",
    "\n",
    "#Scenario 1 - Max Exclusions\n",
    "MaxWindExclusions = common + wind\n",
    "MaxSolarExclusions = common + solar\n",
    "\n",
    "maxExcl = {\"wind\":MaxWindExclusions, \"solar\": MaxSolarExclusions}\n",
    "\n",
    "#Scenario 2 - Med Exclusions: \n",
    "MedWindExclusions = common + wind\n",
    "MedWindExclusions.remove(\"Peatland\")\n",
    "MedWindExclusions.remove(\"Areas of Natural Beauty\")\n",
    "\n",
    "MedSolarExclusions = common + solar\n",
    "MedSolarExclusions.remove(\"Peatland\")\n",
    "MedSolarExclusions.remove(\"Areas of Natural Beauty\")\n",
    "\n",
    "medExcl = {\"wind\":MedWindExclusions, \"solar\": MedSolarExclusions}\n",
    "\n",
    "#Scenario 3 - Min Exclusions\n",
    "MinWindExclusions = common + wind\n",
    "MinWindExclusions.remove(\"Peatland\")\n",
    "MinWindExclusions.remove(\"Areas of Natural Beauty\")\n",
    "MinWindExclusions.remove(\"England National Parks\")\n",
    "MinWindExclusions.remove(\"Scotland Scenic Areas\")\n",
    "MinWindExclusions.remove(\"Wales National Park\")\n",
    "\n",
    "MinSolarExclusions = common + solar\n",
    "MinSolarExclusions.remove(\"Peatland\")\n",
    "MinSolarExclusions.remove(\"Areas of Natural Beauty\")\n",
    "MinSolarExclusions.remove(\"England National Parks\")\n",
    "MinSolarExclusions.remove(\"Scotland Scenic Areas\")\n",
    "MinSolarExclusions.remove(\"Wales National Park\")\n",
    "\n",
    "minExcl = {\"wind\":MinWindExclusions, \"solar\": MinSolarExclusions}\n",
    "\n",
    "\n",
    "paramsDict = {\"min\":minExcl, \"med\":medExcl, \"max\": maxExcl}\n",
    "\n",
    "\n",
    "def getPowerLocal(geometry, exclusions, power):\n",
    "    localPower = power.multiply(exclusions).clip(geometry)\n",
    "    return localPower\n",
    "\n",
    "exDict = getExclusionsDict()\n",
    "resultsDict = {}\n",
    "paramList = list(paramsDict.keys())\n",
    "\n",
    "\n",
    "ladNameList = load_csv_list(\"local_authorities_name.csv\")[1:]\n",
    "\n",
    "LADVector= ladsVector()\n",
    "\n",
    "for idx, exp in enumerate(paramList):\n",
    "    exclDict = getExclusionsDict()\n",
    "    windExc = paramsDict[exp]['wind']\n",
    "    solarExc = paramsDict[exp]['solar']\n",
    "    print(windExc)\n",
    "    \n",
    "    #windExclusionList = [exclDict[x] for x in windExc]\n",
    "    #for ex in windExclusionList:                      \n",
    "    \n",
    "    names = []\n",
    "    solarAreas = []\n",
    "    windAreas = []\n",
    "    \n",
    "    \n",
    "    for idx2, geomName in enumerate(ladNameList):\n",
    "        print('trying', geomName)\n",
    "        areaRast = ee.Image.constant(1)\n",
    "        areaRast = areaRast.reproject(areaRast.projection().atScale(100)).pixelArea()\n",
    "\n",
    "        activeFeat = LADVector.filter(f\"LAD21NM == '{geomName}'\").first()\n",
    "        activeGeom = activeFeat.geometry()\n",
    "\n",
    "        areaRast = areaRast.clip(activeGeom)\n",
    "\n",
    "\n",
    "        def getTotalArea(feat):\n",
    "            return areaRast.reduceRegion(ee.Reducer.sum(), feat, 100)\n",
    "\n",
    "\n",
    "\n",
    "        for x in windExc:\n",
    "            ex = exclDict[x]\n",
    "            areaRast = areaRast.multiply(ex)\n",
    "        areaRast = minimumMappingUnit(areaRast, 7)\n",
    "        windArea = getTotalArea(activeGeom).getInfo()['area']\n",
    "        print('wind', windArea)\n",
    "\n",
    "        areaRast = ee.Image.constant(1)\n",
    "        areaRast = areaRast.reproject(areaRast.projection().atScale(100)).pixelArea()\n",
    "\n",
    "        task = ee.batch.Export.image.toDrive(**{\n",
    "    'image': areaRast,\n",
    "    'description': f'wind-{geomName}-{exp}',\n",
    "    'folder':exp,\n",
    "    'scale': 100,\n",
    "    'region': activeGeom\n",
    "})\n",
    "        task.start()\n",
    "    \n",
    "        for x in solarExc:\n",
    "            ex = exclDict[x]\n",
    "            areaRast = areaRast.multiply(ex)\n",
    "        areaRast = minimumMappingUnit(areaRast, 7)\n",
    "        task = ee.batch.Export.image.toDrive(**{\n",
    "    'image': areaRast,\n",
    "    'description': f'solar-{geomName}-{exp}',\n",
    "    'folder':exp,\n",
    "    'scale': 100,\n",
    "    'region': activeGeom\n",
    "})\n",
    "        task.start()\n",
    "        \n",
    "        solarArea = getTotalArea(activeGeom).getInfo()['area']\n",
    "        print('solar', solarArea)\n",
    "        names.append(geomName)\n",
    "        solarAreas.append(solarArea)\n",
    "        windAreas.append(windArea)\n",
    "        print(geomName, 'wind power', windArea, 'solar power', solarArea)\n",
    "        print(idx2, 'of', len(ladNameList), 'done')\n",
    "        #except:\n",
    "        #    names.append(geomName)\n",
    "        #    solarAreas.append('failed')\n",
    "        #    windAreas.append('failed')\n",
    "        #    print(idx2, 'of', len(ladNameList), 'failed')\n",
    "\n",
    "        resultsFrame = pd.DataFrame([names, solarAreas, windAreas]).T\n",
    "        resultsFrame.columns = ['area name', 'solar power area', 'wind powe area']\n",
    "        resultsFrame.to_csv(f'{exp}.csv')\n",
    "    resultsDict[exp] = resultsFrame\n",
    "    \n",
    "        #print(getTotalArea(LADVector.first().geometry()).getInfo())\n",
    "    \n",
    "    \n",
    "        \n",
    "    \n",
    "\n",
    "\n",
    "string = '''\n",
    "for exp in paramList:\n",
    "    \n",
    "    areaRast = ee.Image.constant(1)\n",
    "    windExc = paramsDict[exp]['wind']\n",
    "    solarExc = paramsDict[exp]['solar']\n",
    "    print(solarExc)\n",
    "    assert windExc != solarExc\n",
    "\n",
    "    windExclusions = [exDict[x] for x in windExc]\n",
    "    solarExclusions = [exDict[x] for x in solarExc]\n",
    "\n",
    "    windExclusions = compute_exclusions(windExclusions)\n",
    "    solarExclusions = compute_exclusions(solarExclusions)\n",
    "\n",
    "    featCol = constituenciesVector()\n",
    "\n",
    "\n",
    "\n",
    "    solarAreaImgCol = ee.ImageCollection(featCol.map(lambda x: getFeatureRaster(x, solarExclusions, areaRast).set(\"name\", ee.String(x.get('pcon19nm'))) ))\n",
    "    windAreaImgCol = ee.ImageCollection(featCol.map(lambda x: getFeatureRaster(x, windExclusions, areaRast).set(\"name\", ee.String(x.get('pcon19nm'))) ))\n",
    "    \n",
    "    #windAreaImgCol = windAreaImgCol.updateMask(solarAreaImgCol.gte(1))\n",
    "\n",
    "    windAreaReduced = windAreaImgCol.map(reduceToArea)\n",
    "    windarr = windAreaReduced.aggregate_array('area').getInfo()\n",
    "    windNames = windAreaReduced.aggregate_array('name').getInfo()\n",
    "    windPFrame = pd.DataFrame(windarr, index=windNames, columns=[\"Wind Area (KM^2)\"])\n",
    "\n",
    "    solarAreaReduced = solarAreaImgCol.map(reduceToArea)\n",
    "    solarr = solarAreaReduced.aggregate_array('area').getInfo()\n",
    "    solNames = solarAreaReduced.aggregate_array('name').getInfo()\n",
    "    solPFrame = pd.DataFrame(solarr, index=solNames, columns=[\"Solar Area (KM^2)\"])\n",
    "\n",
    "    potentialFrame = solPFrame.join(windPFrame)\n",
    "    assert solarr != windarr\n",
    "    resultsDict[exp] = potentialFrame\n",
    "'''"
   ]
  },
  {
   "cell_type": "code",
   "execution_count": null,
   "metadata": {
    "tags": []
   },
   "outputs": [],
   "source": [
    "    resultsFrame = pd.DataFrame([names, solarAreas, windAreas]).T\n",
    "    resultsFrame.columns = ['area name', 'solar power area', 'wind powe area']\n"
   ]
  },
  {
   "cell_type": "code",
   "execution_count": null,
   "metadata": {
    "tags": []
   },
   "outputs": [],
   "source": [
    "resultsFrame"
   ]
  },
  {
   "cell_type": "code",
   "execution_count": null,
   "metadata": {
    "tags": []
   },
   "outputs": [],
   "source": []
  },
  {
   "cell_type": "code",
   "execution_count": null,
   "metadata": {
    "tags": []
   },
   "outputs": [],
   "source": [
    "solarExclusions"
   ]
  },
  {
   "cell_type": "code",
   "execution_count": null,
   "metadata": {},
   "outputs": [],
   "source": [
    "break"
   ]
  },
  {
   "cell_type": "code",
   "execution_count": null,
   "metadata": {
    "tags": []
   },
   "outputs": [],
   "source": [
    "solarExcmin = paramsDict[\"min\"]['solar']\n",
    "solarExcmax = paramsDict[\"max\"]['solar']\n",
    "solExclMin = [exDict[x] for x in solarExcmin]\n",
    "solExclMax = [exDict[x] for x in solarExcmax]"
   ]
  },
  {
   "cell_type": "code",
   "execution_count": null,
   "metadata": {
    "tags": []
   },
   "outputs": [],
   "source": [
    "solExclMin == solExclMax"
   ]
  },
  {
   "cell_type": "code",
   "execution_count": null,
   "metadata": {
    "tags": []
   },
   "outputs": [],
   "source": [
    "solarExcmax"
   ]
  },
  {
   "cell_type": "code",
   "execution_count": null,
   "metadata": {
    "tags": []
   },
   "outputs": [],
   "source": [
    "potentialFrame"
   ]
  },
  {
   "cell_type": "code",
   "execution_count": null,
   "metadata": {
    "tags": []
   },
   "outputs": [],
   "source": [
    "constVect.first().get('pcon19nm').getInfo()"
   ]
  },
  {
   "cell_type": "code",
   "execution_count": null,
   "metadata": {
    "tags": []
   },
   "outputs": [],
   "source": [
    "constVect.map(lambda x: getPowerLocal(x, solarExclusions, areaRast)).getInfo()"
   ]
  },
  {
   "cell_type": "code",
   "execution_count": null,
   "metadata": {
    "tags": []
   },
   "outputs": [],
   "source": [
    "solarr == windarr"
   ]
  },
  {
   "cell_type": "code",
   "execution_count": null,
   "metadata": {},
   "outputs": [],
   "source": []
  },
  {
   "cell_type": "code",
   "execution_count": null,
   "metadata": {
    "tags": []
   },
   "outputs": [],
   "source": [
    "solarr "
   ]
  },
  {
   "cell_type": "code",
   "execution_count": null,
   "metadata": {},
   "outputs": [],
   "source": []
  },
  {
   "cell_type": "code",
   "execution_count": null,
   "metadata": {
    "tags": []
   },
   "outputs": [],
   "source": [
    "areaReduced.first().getInfo()"
   ]
  },
  {
   "cell_type": "code",
   "execution_count": null,
   "metadata": {},
   "outputs": [],
   "source": []
  }
 ],
 "metadata": {
  "kernelspec": {
   "display_name": "conda_amazonei_pytorch_latest_p37",
   "language": "python",
   "name": "conda_amazonei_pytorch_latest_p37"
  },
  "language_info": {
   "codemirror_mode": {
    "name": "ipython",
    "version": 3
   },
   "file_extension": ".py",
   "mimetype": "text/x-python",
   "name": "python",
   "nbconvert_exporter": "python",
   "pygments_lexer": "ipython3",
   "version": "3.7.10"
  },
  "vscode": {
   "interpreter": {
    "hash": "722a69f3954838cd5b29338a502d57b37830efcb1dfded196b752339d8a2a591"
   }
  }
 },
 "nbformat": 4,
 "nbformat_minor": 4
}
